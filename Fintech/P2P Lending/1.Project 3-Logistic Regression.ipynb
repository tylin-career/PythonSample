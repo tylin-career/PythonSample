{
 "cells": [
  {
   "cell_type": "code",
   "execution_count": 1,
   "metadata": {
    "ExecuteTime": {
     "end_time": "2021-02-17T07:08:47.156020Z",
     "start_time": "2021-02-17T07:08:43.917114Z"
    }
   },
   "outputs": [],
   "source": [
    "import pandas as pd\n",
    "import numpy as np\n",
    "from sklearn.linear_model import LogisticRegression\n",
    "from sklearn.model_selection import StratifiedShuffleSplit\n",
    "import warnings"
   ]
  },
  {
   "cell_type": "code",
   "execution_count": 2,
   "metadata": {
    "ExecuteTime": {
     "end_time": "2021-02-17T07:09:39.580592Z",
     "start_time": "2021-02-17T07:09:39.574597Z"
    }
   },
   "outputs": [],
   "source": [
    "warnings.filterwarnings('ignore')"
   ]
  },
  {
   "cell_type": "code",
   "execution_count": 3,
   "metadata": {
    "ExecuteTime": {
     "end_time": "2021-02-17T07:09:40.582171Z",
     "start_time": "2021-02-17T07:09:40.470599Z"
    }
   },
   "outputs": [],
   "source": [
    "filepath='loan.csv'\n",
    "data = pd.read_csv(filepath_or_buffer=filepath,sep=',',parse_dates=True,header=0)"
   ]
  },
  {
   "cell_type": "code",
   "execution_count": 4,
   "metadata": {
    "ExecuteTime": {
     "end_time": "2021-02-17T07:09:41.276977Z",
     "start_time": "2021-02-17T07:09:41.186611Z"
    }
   },
   "outputs": [
    {
     "data": {
      "text/html": [
       "<div>\n",
       "<style scoped>\n",
       "    .dataframe tbody tr th:only-of-type {\n",
       "        vertical-align: middle;\n",
       "    }\n",
       "\n",
       "    .dataframe tbody tr th {\n",
       "        vertical-align: top;\n",
       "    }\n",
       "\n",
       "    .dataframe thead th {\n",
       "        text-align: right;\n",
       "    }\n",
       "</style>\n",
       "<table border=\"1\" class=\"dataframe\">\n",
       "  <thead>\n",
       "    <tr style=\"text-align: right;\">\n",
       "      <th></th>\n",
       "      <th>Unnamed: 0</th>\n",
       "      <th>id</th>\n",
       "      <th>loan_amnt</th>\n",
       "      <th>funded_amnt</th>\n",
       "      <th>term</th>\n",
       "      <th>int_rate</th>\n",
       "      <th>installment</th>\n",
       "      <th>emp_length</th>\n",
       "      <th>home_ownership</th>\n",
       "      <th>annual_inc</th>\n",
       "      <th>...</th>\n",
       "      <th>delinq_2yrs</th>\n",
       "      <th>earliest_cr_line</th>\n",
       "      <th>mths_since_last_delinq</th>\n",
       "      <th>open_acc</th>\n",
       "      <th>revol_bal</th>\n",
       "      <th>total_acc</th>\n",
       "      <th>out_prncp</th>\n",
       "      <th>total_pymnt</th>\n",
       "      <th>total_rec_prncp</th>\n",
       "      <th>total_rec_int</th>\n",
       "    </tr>\n",
       "  </thead>\n",
       "  <tbody>\n",
       "    <tr>\n",
       "      <th>0</th>\n",
       "      <td>20</td>\n",
       "      <td>571203</td>\n",
       "      <td>18000</td>\n",
       "      <td>18000</td>\n",
       "      <td>60 months</td>\n",
       "      <td>10.16%</td>\n",
       "      <td>383.87</td>\n",
       "      <td>10+ years</td>\n",
       "      <td>MORTGAGE</td>\n",
       "      <td>72804.0</td>\n",
       "      <td>...</td>\n",
       "      <td>0.0</td>\n",
       "      <td>1995-12-27 02:06</td>\n",
       "      <td>NaN</td>\n",
       "      <td>21.0</td>\n",
       "      <td>8751.0</td>\n",
       "      <td>49.0</td>\n",
       "      <td>13263.18</td>\n",
       "      <td>7273.77</td>\n",
       "      <td>4736.82</td>\n",
       "      <td>2536.95</td>\n",
       "    </tr>\n",
       "    <tr>\n",
       "      <th>1</th>\n",
       "      <td>40</td>\n",
       "      <td>641849</td>\n",
       "      <td>13200</td>\n",
       "      <td>13200</td>\n",
       "      <td>36 months</td>\n",
       "      <td>18.49%</td>\n",
       "      <td>480.47</td>\n",
       "      <td>2 years</td>\n",
       "      <td>RENT</td>\n",
       "      <td>110000.0</td>\n",
       "      <td>...</td>\n",
       "      <td>0.0</td>\n",
       "      <td>2000-12-11 11:15</td>\n",
       "      <td>29.0</td>\n",
       "      <td>16.0</td>\n",
       "      <td>16062.0</td>\n",
       "      <td>36.0</td>\n",
       "      <td>10546.93</td>\n",
       "      <td>4324.23</td>\n",
       "      <td>2653.07</td>\n",
       "      <td>1671.16</td>\n",
       "    </tr>\n",
       "    <tr>\n",
       "      <th>2</th>\n",
       "      <td>60</td>\n",
       "      <td>694891</td>\n",
       "      <td>15675</td>\n",
       "      <td>15675</td>\n",
       "      <td>36 months</td>\n",
       "      <td>8.90%</td>\n",
       "      <td>497.74</td>\n",
       "      <td>10+ years</td>\n",
       "      <td>MORTGAGE</td>\n",
       "      <td>100000.0</td>\n",
       "      <td>...</td>\n",
       "      <td>0.0</td>\n",
       "      <td>1994-04-07 12:00</td>\n",
       "      <td>NaN</td>\n",
       "      <td>16.0</td>\n",
       "      <td>20650.0</td>\n",
       "      <td>45.0</td>\n",
       "      <td>15294.25</td>\n",
       "      <td>496.78</td>\n",
       "      <td>380.75</td>\n",
       "      <td>116.03</td>\n",
       "    </tr>\n",
       "    <tr>\n",
       "      <th>3</th>\n",
       "      <td>80</td>\n",
       "      <td>734736</td>\n",
       "      <td>21600</td>\n",
       "      <td>21600</td>\n",
       "      <td>36 months</td>\n",
       "      <td>7.90%</td>\n",
       "      <td>675.87</td>\n",
       "      <td>10+ years</td>\n",
       "      <td>MORTGAGE</td>\n",
       "      <td>95000.0</td>\n",
       "      <td>...</td>\n",
       "      <td>0.0</td>\n",
       "      <td>1999-05-05 10:59</td>\n",
       "      <td>NaN</td>\n",
       "      <td>9.0</td>\n",
       "      <td>416.0</td>\n",
       "      <td>24.0</td>\n",
       "      <td>0.00</td>\n",
       "      <td>23521.69</td>\n",
       "      <td>21600.00</td>\n",
       "      <td>1921.69</td>\n",
       "    </tr>\n",
       "    <tr>\n",
       "      <th>4</th>\n",
       "      <td>100</td>\n",
       "      <td>784712</td>\n",
       "      <td>16500</td>\n",
       "      <td>16500</td>\n",
       "      <td>60 months</td>\n",
       "      <td>7.90%</td>\n",
       "      <td>333.78</td>\n",
       "      <td>2 years</td>\n",
       "      <td>MORTGAGE</td>\n",
       "      <td>42000.0</td>\n",
       "      <td>...</td>\n",
       "      <td>0.0</td>\n",
       "      <td>1993-07-16 08:41</td>\n",
       "      <td>NaN</td>\n",
       "      <td>9.0</td>\n",
       "      <td>2229.0</td>\n",
       "      <td>17.0</td>\n",
       "      <td>12966.64</td>\n",
       "      <td>5000.85</td>\n",
       "      <td>3533.36</td>\n",
       "      <td>1467.49</td>\n",
       "    </tr>\n",
       "  </tbody>\n",
       "</table>\n",
       "<p>5 rows × 24 columns</p>\n",
       "</div>"
      ],
      "text/plain": [
       "   Unnamed: 0      id  loan_amnt  funded_amnt        term int_rate  \\\n",
       "0          20  571203      18000        18000   60 months   10.16%   \n",
       "1          40  641849      13200        13200   36 months   18.49%   \n",
       "2          60  694891      15675        15675   36 months    8.90%   \n",
       "3          80  734736      21600        21600   36 months    7.90%   \n",
       "4         100  784712      16500        16500   60 months    7.90%   \n",
       "\n",
       "   installment emp_length home_ownership  annual_inc  ... delinq_2yrs  \\\n",
       "0       383.87  10+ years       MORTGAGE     72804.0  ...         0.0   \n",
       "1       480.47    2 years           RENT    110000.0  ...         0.0   \n",
       "2       497.74  10+ years       MORTGAGE    100000.0  ...         0.0   \n",
       "3       675.87  10+ years       MORTGAGE     95000.0  ...         0.0   \n",
       "4       333.78    2 years       MORTGAGE     42000.0  ...         0.0   \n",
       "\n",
       "   earliest_cr_line mths_since_last_delinq  open_acc  revol_bal total_acc  \\\n",
       "0  1995-12-27 02:06                    NaN      21.0     8751.0      49.0   \n",
       "1  2000-12-11 11:15                   29.0      16.0    16062.0      36.0   \n",
       "2  1994-04-07 12:00                    NaN      16.0    20650.0      45.0   \n",
       "3  1999-05-05 10:59                    NaN       9.0      416.0      24.0   \n",
       "4  1993-07-16 08:41                    NaN       9.0     2229.0      17.0   \n",
       "\n",
       "   out_prncp  total_pymnt  total_rec_prncp  total_rec_int  \n",
       "0   13263.18      7273.77          4736.82        2536.95  \n",
       "1   10546.93      4324.23          2653.07        1671.16  \n",
       "2   15294.25       496.78           380.75         116.03  \n",
       "3       0.00     23521.69         21600.00        1921.69  \n",
       "4   12966.64      5000.85          3533.36        1467.49  \n",
       "\n",
       "[5 rows x 24 columns]"
      ]
     },
     "execution_count": 4,
     "metadata": {},
     "output_type": "execute_result"
    }
   ],
   "source": [
    "data.head()"
   ]
  },
  {
   "cell_type": "code",
   "execution_count": 5,
   "metadata": {
    "ExecuteTime": {
     "end_time": "2021-02-17T07:09:45.191666Z",
     "start_time": "2021-02-17T07:09:45.180636Z"
    }
   },
   "outputs": [],
   "source": [
    "#drop the first column of the data (has no real meaning)\n",
    "data.drop('Unnamed: 0',axis=1,inplace=True)"
   ]
  },
  {
   "cell_type": "code",
   "execution_count": 6,
   "metadata": {
    "ExecuteTime": {
     "end_time": "2021-02-17T07:09:46.048148Z",
     "start_time": "2021-02-17T07:09:46.029777Z"
    }
   },
   "outputs": [],
   "source": [
    "#drop the record with two many NaNs.\n",
    "data = data.dropna(thresh= 5)"
   ]
  },
  {
   "cell_type": "code",
   "execution_count": 7,
   "metadata": {
    "ExecuteTime": {
     "end_time": "2021-02-17T07:09:47.812007Z",
     "start_time": "2021-02-17T07:09:47.804999Z"
    }
   },
   "outputs": [],
   "source": [
    "data.columns=[column.title() for column in data.columns]"
   ]
  },
  {
   "cell_type": "code",
   "execution_count": 8,
   "metadata": {
    "ExecuteTime": {
     "end_time": "2021-02-17T07:09:53.196899Z",
     "start_time": "2021-02-17T07:09:53.189028Z"
    }
   },
   "outputs": [],
   "source": [
    "#set the 'Id' column to be the index of the data.\n",
    "data.set_index('Id',inplace=True,verify_integrity=True)"
   ]
  },
  {
   "cell_type": "code",
   "execution_count": 9,
   "metadata": {
    "ExecuteTime": {
     "end_time": "2021-02-17T07:09:57.795089Z",
     "start_time": "2021-02-17T07:09:57.780780Z"
    }
   },
   "outputs": [],
   "source": [
    "#drop the record with NaN in 'Emp_Length' column.\n",
    "data.dropna(subset=['Emp_Length'],inplace=True)"
   ]
  },
  {
   "cell_type": "code",
   "execution_count": 10,
   "metadata": {
    "ExecuteTime": {
     "end_time": "2021-02-17T07:10:00.874875Z",
     "start_time": "2021-02-17T07:10:00.172410Z"
    }
   },
   "outputs": [],
   "source": [
    "data=data.groupby('Delinq_2Yrs').apply(lambda g:g.fillna(np.round(g.mean(),2)))"
   ]
  },
  {
   "cell_type": "code",
   "execution_count": 11,
   "metadata": {
    "ExecuteTime": {
     "end_time": "2021-02-17T07:10:01.387873Z",
     "start_time": "2021-02-17T07:10:01.381092Z"
    }
   },
   "outputs": [],
   "source": [
    "data.reset_index(level=0,drop=True,inplace=True)"
   ]
  },
  {
   "cell_type": "code",
   "execution_count": 12,
   "metadata": {
    "ExecuteTime": {
     "end_time": "2021-02-17T07:10:03.078477Z",
     "start_time": "2021-02-17T07:10:03.022154Z"
    }
   },
   "outputs": [
    {
     "data": {
      "text/html": [
       "<div>\n",
       "<style scoped>\n",
       "    .dataframe tbody tr th:only-of-type {\n",
       "        vertical-align: middle;\n",
       "    }\n",
       "\n",
       "    .dataframe tbody tr th {\n",
       "        vertical-align: top;\n",
       "    }\n",
       "\n",
       "    .dataframe thead th {\n",
       "        text-align: right;\n",
       "    }\n",
       "</style>\n",
       "<table border=\"1\" class=\"dataframe\">\n",
       "  <thead>\n",
       "    <tr style=\"text-align: right;\">\n",
       "      <th></th>\n",
       "      <th>Loan_Amnt</th>\n",
       "      <th>Funded_Amnt</th>\n",
       "      <th>Term</th>\n",
       "      <th>Int_Rate</th>\n",
       "      <th>Installment</th>\n",
       "      <th>Emp_Length</th>\n",
       "      <th>Home_Ownership</th>\n",
       "      <th>Annual_Inc</th>\n",
       "      <th>Loan_Status</th>\n",
       "      <th>Purpose</th>\n",
       "      <th>...</th>\n",
       "      <th>Delinq_2Yrs</th>\n",
       "      <th>Earliest_Cr_Line</th>\n",
       "      <th>Mths_Since_Last_Delinq</th>\n",
       "      <th>Open_Acc</th>\n",
       "      <th>Revol_Bal</th>\n",
       "      <th>Total_Acc</th>\n",
       "      <th>Out_Prncp</th>\n",
       "      <th>Total_Pymnt</th>\n",
       "      <th>Total_Rec_Prncp</th>\n",
       "      <th>Total_Rec_Int</th>\n",
       "    </tr>\n",
       "    <tr>\n",
       "      <th>Id</th>\n",
       "      <th></th>\n",
       "      <th></th>\n",
       "      <th></th>\n",
       "      <th></th>\n",
       "      <th></th>\n",
       "      <th></th>\n",
       "      <th></th>\n",
       "      <th></th>\n",
       "      <th></th>\n",
       "      <th></th>\n",
       "      <th></th>\n",
       "      <th></th>\n",
       "      <th></th>\n",
       "      <th></th>\n",
       "      <th></th>\n",
       "      <th></th>\n",
       "      <th></th>\n",
       "      <th></th>\n",
       "      <th></th>\n",
       "      <th></th>\n",
       "      <th></th>\n",
       "    </tr>\n",
       "  </thead>\n",
       "  <tbody>\n",
       "    <tr>\n",
       "      <th>571203</th>\n",
       "      <td>18000</td>\n",
       "      <td>18000</td>\n",
       "      <td>60 months</td>\n",
       "      <td>10.16%</td>\n",
       "      <td>383.87</td>\n",
       "      <td>10+ years</td>\n",
       "      <td>MORTGAGE</td>\n",
       "      <td>72804.0</td>\n",
       "      <td>Current</td>\n",
       "      <td>credit_card</td>\n",
       "      <td>...</td>\n",
       "      <td>0.0</td>\n",
       "      <td>1995-12-27 02:06</td>\n",
       "      <td>47.61</td>\n",
       "      <td>21.0</td>\n",
       "      <td>8751.0</td>\n",
       "      <td>49.0</td>\n",
       "      <td>13263.18</td>\n",
       "      <td>7273.77</td>\n",
       "      <td>4736.82</td>\n",
       "      <td>2536.95</td>\n",
       "    </tr>\n",
       "    <tr>\n",
       "      <th>641849</th>\n",
       "      <td>13200</td>\n",
       "      <td>13200</td>\n",
       "      <td>36 months</td>\n",
       "      <td>18.49%</td>\n",
       "      <td>480.47</td>\n",
       "      <td>2 years</td>\n",
       "      <td>RENT</td>\n",
       "      <td>110000.0</td>\n",
       "      <td>Current</td>\n",
       "      <td>debt_consolidation</td>\n",
       "      <td>...</td>\n",
       "      <td>0.0</td>\n",
       "      <td>2000-12-11 11:15</td>\n",
       "      <td>29.00</td>\n",
       "      <td>16.0</td>\n",
       "      <td>16062.0</td>\n",
       "      <td>36.0</td>\n",
       "      <td>10546.93</td>\n",
       "      <td>4324.23</td>\n",
       "      <td>2653.07</td>\n",
       "      <td>1671.16</td>\n",
       "    </tr>\n",
       "    <tr>\n",
       "      <th>694891</th>\n",
       "      <td>15675</td>\n",
       "      <td>15675</td>\n",
       "      <td>36 months</td>\n",
       "      <td>8.90%</td>\n",
       "      <td>497.74</td>\n",
       "      <td>10+ years</td>\n",
       "      <td>MORTGAGE</td>\n",
       "      <td>100000.0</td>\n",
       "      <td>Current</td>\n",
       "      <td>small_business</td>\n",
       "      <td>...</td>\n",
       "      <td>0.0</td>\n",
       "      <td>1994-04-07 12:00</td>\n",
       "      <td>47.61</td>\n",
       "      <td>16.0</td>\n",
       "      <td>20650.0</td>\n",
       "      <td>45.0</td>\n",
       "      <td>15294.25</td>\n",
       "      <td>496.78</td>\n",
       "      <td>380.75</td>\n",
       "      <td>116.03</td>\n",
       "    </tr>\n",
       "    <tr>\n",
       "      <th>734736</th>\n",
       "      <td>21600</td>\n",
       "      <td>21600</td>\n",
       "      <td>36 months</td>\n",
       "      <td>7.90%</td>\n",
       "      <td>675.87</td>\n",
       "      <td>10+ years</td>\n",
       "      <td>MORTGAGE</td>\n",
       "      <td>95000.0</td>\n",
       "      <td>Fully Paid</td>\n",
       "      <td>house</td>\n",
       "      <td>...</td>\n",
       "      <td>0.0</td>\n",
       "      <td>1999-05-05 10:59</td>\n",
       "      <td>47.61</td>\n",
       "      <td>9.0</td>\n",
       "      <td>416.0</td>\n",
       "      <td>24.0</td>\n",
       "      <td>0.00</td>\n",
       "      <td>23521.69</td>\n",
       "      <td>21600.00</td>\n",
       "      <td>1921.69</td>\n",
       "    </tr>\n",
       "    <tr>\n",
       "      <th>784712</th>\n",
       "      <td>16500</td>\n",
       "      <td>16500</td>\n",
       "      <td>60 months</td>\n",
       "      <td>7.90%</td>\n",
       "      <td>333.78</td>\n",
       "      <td>2 years</td>\n",
       "      <td>MORTGAGE</td>\n",
       "      <td>42000.0</td>\n",
       "      <td>Late (31-120 days)</td>\n",
       "      <td>small_business</td>\n",
       "      <td>...</td>\n",
       "      <td>0.0</td>\n",
       "      <td>1993-07-16 08:41</td>\n",
       "      <td>47.61</td>\n",
       "      <td>9.0</td>\n",
       "      <td>2229.0</td>\n",
       "      <td>17.0</td>\n",
       "      <td>12966.64</td>\n",
       "      <td>5000.85</td>\n",
       "      <td>3533.36</td>\n",
       "      <td>1467.49</td>\n",
       "    </tr>\n",
       "  </tbody>\n",
       "</table>\n",
       "<p>5 rows × 22 columns</p>\n",
       "</div>"
      ],
      "text/plain": [
       "        Loan_Amnt  Funded_Amnt        Term Int_Rate  Installment Emp_Length  \\\n",
       "Id                                                                            \n",
       "571203      18000        18000   60 months   10.16%       383.87  10+ years   \n",
       "641849      13200        13200   36 months   18.49%       480.47    2 years   \n",
       "694891      15675        15675   36 months    8.90%       497.74  10+ years   \n",
       "734736      21600        21600   36 months    7.90%       675.87  10+ years   \n",
       "784712      16500        16500   60 months    7.90%       333.78    2 years   \n",
       "\n",
       "       Home_Ownership  Annual_Inc         Loan_Status             Purpose  \\\n",
       "Id                                                                          \n",
       "571203       MORTGAGE     72804.0             Current         credit_card   \n",
       "641849           RENT    110000.0             Current  debt_consolidation   \n",
       "694891       MORTGAGE    100000.0             Current      small_business   \n",
       "734736       MORTGAGE     95000.0          Fully Paid               house   \n",
       "784712       MORTGAGE     42000.0  Late (31-120 days)      small_business   \n",
       "\n",
       "        ... Delinq_2Yrs  Earliest_Cr_Line  Mths_Since_Last_Delinq Open_Acc  \\\n",
       "Id      ...                                                                  \n",
       "571203  ...         0.0  1995-12-27 02:06                   47.61     21.0   \n",
       "641849  ...         0.0  2000-12-11 11:15                   29.00     16.0   \n",
       "694891  ...         0.0  1994-04-07 12:00                   47.61     16.0   \n",
       "734736  ...         0.0  1999-05-05 10:59                   47.61      9.0   \n",
       "784712  ...         0.0  1993-07-16 08:41                   47.61      9.0   \n",
       "\n",
       "        Revol_Bal  Total_Acc  Out_Prncp  Total_Pymnt  Total_Rec_Prncp  \\\n",
       "Id                                                                      \n",
       "571203     8751.0       49.0   13263.18      7273.77          4736.82   \n",
       "641849    16062.0       36.0   10546.93      4324.23          2653.07   \n",
       "694891    20650.0       45.0   15294.25       496.78           380.75   \n",
       "734736      416.0       24.0       0.00     23521.69         21600.00   \n",
       "784712     2229.0       17.0   12966.64      5000.85          3533.36   \n",
       "\n",
       "        Total_Rec_Int  \n",
       "Id                     \n",
       "571203        2536.95  \n",
       "641849        1671.16  \n",
       "694891         116.03  \n",
       "734736        1921.69  \n",
       "784712        1467.49  \n",
       "\n",
       "[5 rows x 22 columns]"
      ]
     },
     "execution_count": 12,
     "metadata": {},
     "output_type": "execute_result"
    }
   ],
   "source": [
    "data.head()"
   ]
  },
  {
   "cell_type": "code",
   "execution_count": 13,
   "metadata": {
    "ExecuteTime": {
     "end_time": "2021-02-17T07:10:05.665975Z",
     "start_time": "2021-02-17T07:10:05.660873Z"
    }
   },
   "outputs": [],
   "source": [
    "def interest(x):\n",
    "    x=float(x.strip('%'))\n",
    "    return x"
   ]
  },
  {
   "cell_type": "code",
   "execution_count": 14,
   "metadata": {
    "ExecuteTime": {
     "end_time": "2021-02-17T07:10:06.335633Z",
     "start_time": "2021-02-17T07:10:06.292192Z"
    }
   },
   "outputs": [],
   "source": [
    "data[['Int_Rate']]=data[['Int_Rate']].applymap(interest)"
   ]
  },
  {
   "cell_type": "code",
   "execution_count": 15,
   "metadata": {
    "ExecuteTime": {
     "end_time": "2021-02-17T07:10:07.275742Z",
     "start_time": "2021-02-17T07:10:07.266593Z"
    }
   },
   "outputs": [],
   "source": [
    "def credit_line_year(x):\n",
    "    x=int(x.split('-')[0])\n",
    "    return x"
   ]
  },
  {
   "cell_type": "code",
   "execution_count": 16,
   "metadata": {
    "ExecuteTime": {
     "end_time": "2021-02-17T07:10:07.662397Z",
     "start_time": "2021-02-17T07:10:07.597158Z"
    }
   },
   "outputs": [],
   "source": [
    "data[['Earliest_Cr_Line']]=data[['Earliest_Cr_Line']].applymap(credit_line_year)"
   ]
  },
  {
   "cell_type": "code",
   "execution_count": 17,
   "metadata": {
    "ExecuteTime": {
     "end_time": "2021-02-17T07:10:10.096435Z",
     "start_time": "2021-02-17T07:10:09.989510Z"
    }
   },
   "outputs": [],
   "source": [
    "data['Earliest_Cr_Line']=2018-data['Earliest_Cr_Line']"
   ]
  },
  {
   "cell_type": "code",
   "execution_count": 18,
   "metadata": {
    "ExecuteTime": {
     "end_time": "2021-02-17T07:10:10.776947Z",
     "start_time": "2021-02-17T07:10:10.772037Z"
    }
   },
   "outputs": [],
   "source": [
    "def employment(x):\n",
    "    x=x.split(' ')[0]\n",
    "    if x=='10+':\n",
    "        x=10\n",
    "    elif x=='<':\n",
    "        x=0\n",
    "    else:\n",
    "        x=int(x)\n",
    "    return x"
   ]
  },
  {
   "cell_type": "code",
   "execution_count": 19,
   "metadata": {
    "ExecuteTime": {
     "end_time": "2021-02-17T07:10:12.165294Z",
     "start_time": "2021-02-17T07:10:12.125328Z"
    }
   },
   "outputs": [],
   "source": [
    "data[['Emp_Length']]=data[['Emp_Length']].applymap(employment)"
   ]
  },
  {
   "cell_type": "code",
   "execution_count": 20,
   "metadata": {
    "ExecuteTime": {
     "end_time": "2021-02-17T07:10:14.667003Z",
     "start_time": "2021-02-17T07:10:14.637298Z"
    }
   },
   "outputs": [
    {
     "data": {
      "text/plain": [
       "Current               7769\n",
       "Fully Paid             921\n",
       "Charged Off            209\n",
       "Late (31-120 days)     140\n",
       "In Grace Period         46\n",
       "Late (16-30 days)       19\n",
       "Default                 15\n",
       "Name: Loan_Status, dtype: int64"
      ]
     },
     "execution_count": 20,
     "metadata": {},
     "output_type": "execute_result"
    }
   ],
   "source": [
    "data.Loan_Status.value_counts()"
   ]
  },
  {
   "cell_type": "code",
   "execution_count": 21,
   "metadata": {
    "ExecuteTime": {
     "end_time": "2021-02-17T07:10:20.795405Z",
     "start_time": "2021-02-17T07:10:20.790507Z"
    }
   },
   "outputs": [],
   "source": [
    "#data=data[data['Loan_Status'].isin(['Charged Off','Fully Paid','Default','Late (31-120 days)','Late (16-30 days)'])]"
   ]
  },
  {
   "cell_type": "code",
   "execution_count": 22,
   "metadata": {
    "ExecuteTime": {
     "end_time": "2021-02-17T07:10:21.549842Z",
     "start_time": "2021-02-17T07:10:21.525347Z"
    }
   },
   "outputs": [
    {
     "name": "stdout",
     "output_type": "stream",
     "text": [
      "<class 'pandas.core.frame.DataFrame'>\n",
      "Int64Index: 9119 entries, 571203 to 9664845\n",
      "Data columns (total 22 columns):\n",
      " #   Column                  Non-Null Count  Dtype  \n",
      "---  ------                  --------------  -----  \n",
      " 0   Loan_Amnt               9119 non-null   int64  \n",
      " 1   Funded_Amnt             9119 non-null   int64  \n",
      " 2   Term                    9119 non-null   object \n",
      " 3   Int_Rate                9119 non-null   float64\n",
      " 4   Installment             9119 non-null   float64\n",
      " 5   Emp_Length              9119 non-null   int64  \n",
      " 6   Home_Ownership          9119 non-null   object \n",
      " 7   Annual_Inc              9119 non-null   float64\n",
      " 8   Loan_Status             9119 non-null   object \n",
      " 9   Purpose                 9119 non-null   object \n",
      " 10  Addr_State              9119 non-null   object \n",
      " 11  Dti                     9119 non-null   float64\n",
      " 12  Delinq_2Yrs             9119 non-null   float64\n",
      " 13  Earliest_Cr_Line        9119 non-null   int64  \n",
      " 14  Mths_Since_Last_Delinq  9119 non-null   float64\n",
      " 15  Open_Acc                9119 non-null   float64\n",
      " 16  Revol_Bal               9119 non-null   float64\n",
      " 17  Total_Acc               9119 non-null   float64\n",
      " 18  Out_Prncp               9119 non-null   float64\n",
      " 19  Total_Pymnt             9119 non-null   float64\n",
      " 20  Total_Rec_Prncp         9119 non-null   float64\n",
      " 21  Total_Rec_Int           9119 non-null   float64\n",
      "dtypes: float64(13), int64(4), object(5)\n",
      "memory usage: 1.6+ MB\n"
     ]
    }
   ],
   "source": [
    "data.info()"
   ]
  },
  {
   "cell_type": "code",
   "execution_count": 23,
   "metadata": {
    "ExecuteTime": {
     "end_time": "2021-02-17T07:10:29.364201Z",
     "start_time": "2021-02-17T07:10:29.357521Z"
    }
   },
   "outputs": [],
   "source": [
    "def status(x):\n",
    "    if x=='Fully Paid':\n",
    "        x=1\n",
    "    elif x=='Current':\n",
    "        x=1\n",
    "    else:\n",
    "        x=0 \n",
    "    return x"
   ]
  },
  {
   "cell_type": "code",
   "execution_count": 24,
   "metadata": {
    "ExecuteTime": {
     "end_time": "2021-02-17T07:10:32.463042Z",
     "start_time": "2021-02-17T07:10:32.436814Z"
    }
   },
   "outputs": [],
   "source": [
    "data[['Loan_Status']]=data[['Loan_Status']].applymap(status)"
   ]
  },
  {
   "cell_type": "code",
   "execution_count": 25,
   "metadata": {
    "ExecuteTime": {
     "end_time": "2021-02-17T07:10:37.832831Z",
     "start_time": "2021-02-17T07:10:37.821467Z"
    }
   },
   "outputs": [],
   "source": [
    "#drop the columns with little association with the Loan_Status.\n",
    "#'Out_Prncp','Total_Pymnt','Total_Rec_Prncp','Total_Rec_Int'\n",
    "data.drop(['Loan_Amnt'],axis=1,inplace=True)"
   ]
  },
  {
   "cell_type": "code",
   "execution_count": 26,
   "metadata": {
    "ExecuteTime": {
     "end_time": "2021-02-17T07:10:38.535323Z",
     "start_time": "2021-02-17T07:10:38.525258Z"
    }
   },
   "outputs": [],
   "source": [
    "data.columns=['Loan_Amount','Term','Interest_Rate','Installment','Employment_Length','Home_Ownership','Annual_Income','Loan_Status',\n",
    "             'Purpose','State','DTI','Deliquency_in_2years','Credit_Line_Year','Months_since_Last_Deliquency','Open_Account','Revolving_Balance','Total_Account',\n",
    "             'Out_Principal','Total_Payment','Total_Paid_Principal','Total_Paid_Interest']"
   ]
  },
  {
   "cell_type": "code",
   "execution_count": 27,
   "metadata": {
    "ExecuteTime": {
     "end_time": "2021-02-17T07:10:40.970743Z",
     "start_time": "2021-02-17T07:10:40.957737Z"
    }
   },
   "outputs": [],
   "source": [
    "data[['Deliquency_in_2years','Open_Account','Total_Account']]=data[['Deliquency_in_2years','Open_Account','Total_Account']].astype(np.int64)"
   ]
  },
  {
   "cell_type": "code",
   "execution_count": 28,
   "metadata": {
    "ExecuteTime": {
     "end_time": "2021-02-17T07:10:41.748961Z",
     "start_time": "2021-02-17T07:10:41.692432Z"
    }
   },
   "outputs": [],
   "source": [
    "data=pd.get_dummies(data)"
   ]
  },
  {
   "cell_type": "code",
   "execution_count": 29,
   "metadata": {
    "ExecuteTime": {
     "end_time": "2021-02-17T07:10:47.418843Z",
     "start_time": "2021-02-17T07:10:47.360272Z"
    }
   },
   "outputs": [
    {
     "data": {
      "text/html": [
       "<div>\n",
       "<style scoped>\n",
       "    .dataframe tbody tr th:only-of-type {\n",
       "        vertical-align: middle;\n",
       "    }\n",
       "\n",
       "    .dataframe tbody tr th {\n",
       "        vertical-align: top;\n",
       "    }\n",
       "\n",
       "    .dataframe thead th {\n",
       "        text-align: right;\n",
       "    }\n",
       "</style>\n",
       "<table border=\"1\" class=\"dataframe\">\n",
       "  <thead>\n",
       "    <tr style=\"text-align: right;\">\n",
       "      <th></th>\n",
       "      <th>Loan_Amount</th>\n",
       "      <th>Interest_Rate</th>\n",
       "      <th>Installment</th>\n",
       "      <th>Employment_Length</th>\n",
       "      <th>Annual_Income</th>\n",
       "      <th>Loan_Status</th>\n",
       "      <th>DTI</th>\n",
       "      <th>Deliquency_in_2years</th>\n",
       "      <th>Credit_Line_Year</th>\n",
       "      <th>Months_since_Last_Deliquency</th>\n",
       "      <th>...</th>\n",
       "      <th>State_SD</th>\n",
       "      <th>State_TN</th>\n",
       "      <th>State_TX</th>\n",
       "      <th>State_UT</th>\n",
       "      <th>State_VA</th>\n",
       "      <th>State_VT</th>\n",
       "      <th>State_WA</th>\n",
       "      <th>State_WI</th>\n",
       "      <th>State_WV</th>\n",
       "      <th>State_WY</th>\n",
       "    </tr>\n",
       "    <tr>\n",
       "      <th>Id</th>\n",
       "      <th></th>\n",
       "      <th></th>\n",
       "      <th></th>\n",
       "      <th></th>\n",
       "      <th></th>\n",
       "      <th></th>\n",
       "      <th></th>\n",
       "      <th></th>\n",
       "      <th></th>\n",
       "      <th></th>\n",
       "      <th></th>\n",
       "      <th></th>\n",
       "      <th></th>\n",
       "      <th></th>\n",
       "      <th></th>\n",
       "      <th></th>\n",
       "      <th></th>\n",
       "      <th></th>\n",
       "      <th></th>\n",
       "      <th></th>\n",
       "      <th></th>\n",
       "    </tr>\n",
       "  </thead>\n",
       "  <tbody>\n",
       "    <tr>\n",
       "      <th>571203</th>\n",
       "      <td>18000</td>\n",
       "      <td>10.16</td>\n",
       "      <td>383.87</td>\n",
       "      <td>10</td>\n",
       "      <td>72804.0</td>\n",
       "      <td>1</td>\n",
       "      <td>16.73</td>\n",
       "      <td>0</td>\n",
       "      <td>23</td>\n",
       "      <td>47.61</td>\n",
       "      <td>...</td>\n",
       "      <td>0</td>\n",
       "      <td>0</td>\n",
       "      <td>0</td>\n",
       "      <td>0</td>\n",
       "      <td>0</td>\n",
       "      <td>0</td>\n",
       "      <td>0</td>\n",
       "      <td>0</td>\n",
       "      <td>0</td>\n",
       "      <td>0</td>\n",
       "    </tr>\n",
       "    <tr>\n",
       "      <th>641849</th>\n",
       "      <td>13200</td>\n",
       "      <td>18.49</td>\n",
       "      <td>480.47</td>\n",
       "      <td>2</td>\n",
       "      <td>110000.0</td>\n",
       "      <td>1</td>\n",
       "      <td>17.02</td>\n",
       "      <td>0</td>\n",
       "      <td>18</td>\n",
       "      <td>29.00</td>\n",
       "      <td>...</td>\n",
       "      <td>0</td>\n",
       "      <td>0</td>\n",
       "      <td>0</td>\n",
       "      <td>0</td>\n",
       "      <td>0</td>\n",
       "      <td>0</td>\n",
       "      <td>0</td>\n",
       "      <td>0</td>\n",
       "      <td>0</td>\n",
       "      <td>0</td>\n",
       "    </tr>\n",
       "    <tr>\n",
       "      <th>694891</th>\n",
       "      <td>15675</td>\n",
       "      <td>8.90</td>\n",
       "      <td>497.74</td>\n",
       "      <td>10</td>\n",
       "      <td>100000.0</td>\n",
       "      <td>1</td>\n",
       "      <td>9.10</td>\n",
       "      <td>0</td>\n",
       "      <td>24</td>\n",
       "      <td>47.61</td>\n",
       "      <td>...</td>\n",
       "      <td>0</td>\n",
       "      <td>0</td>\n",
       "      <td>0</td>\n",
       "      <td>0</td>\n",
       "      <td>0</td>\n",
       "      <td>0</td>\n",
       "      <td>1</td>\n",
       "      <td>0</td>\n",
       "      <td>0</td>\n",
       "      <td>0</td>\n",
       "    </tr>\n",
       "    <tr>\n",
       "      <th>734736</th>\n",
       "      <td>21600</td>\n",
       "      <td>7.90</td>\n",
       "      <td>675.87</td>\n",
       "      <td>10</td>\n",
       "      <td>95000.0</td>\n",
       "      <td>1</td>\n",
       "      <td>3.42</td>\n",
       "      <td>0</td>\n",
       "      <td>19</td>\n",
       "      <td>47.61</td>\n",
       "      <td>...</td>\n",
       "      <td>0</td>\n",
       "      <td>0</td>\n",
       "      <td>0</td>\n",
       "      <td>0</td>\n",
       "      <td>0</td>\n",
       "      <td>0</td>\n",
       "      <td>0</td>\n",
       "      <td>1</td>\n",
       "      <td>0</td>\n",
       "      <td>0</td>\n",
       "    </tr>\n",
       "    <tr>\n",
       "      <th>784712</th>\n",
       "      <td>16500</td>\n",
       "      <td>7.90</td>\n",
       "      <td>333.78</td>\n",
       "      <td>2</td>\n",
       "      <td>42000.0</td>\n",
       "      <td>0</td>\n",
       "      <td>10.43</td>\n",
       "      <td>0</td>\n",
       "      <td>25</td>\n",
       "      <td>47.61</td>\n",
       "      <td>...</td>\n",
       "      <td>0</td>\n",
       "      <td>0</td>\n",
       "      <td>0</td>\n",
       "      <td>0</td>\n",
       "      <td>0</td>\n",
       "      <td>0</td>\n",
       "      <td>0</td>\n",
       "      <td>0</td>\n",
       "      <td>0</td>\n",
       "      <td>0</td>\n",
       "    </tr>\n",
       "    <tr>\n",
       "      <th>...</th>\n",
       "      <td>...</td>\n",
       "      <td>...</td>\n",
       "      <td>...</td>\n",
       "      <td>...</td>\n",
       "      <td>...</td>\n",
       "      <td>...</td>\n",
       "      <td>...</td>\n",
       "      <td>...</td>\n",
       "      <td>...</td>\n",
       "      <td>...</td>\n",
       "      <td>...</td>\n",
       "      <td>...</td>\n",
       "      <td>...</td>\n",
       "      <td>...</td>\n",
       "      <td>...</td>\n",
       "      <td>...</td>\n",
       "      <td>...</td>\n",
       "      <td>...</td>\n",
       "      <td>...</td>\n",
       "      <td>...</td>\n",
       "      <td>...</td>\n",
       "    </tr>\n",
       "    <tr>\n",
       "      <th>8968302</th>\n",
       "      <td>16000</td>\n",
       "      <td>20.20</td>\n",
       "      <td>425.69</td>\n",
       "      <td>8</td>\n",
       "      <td>126000.0</td>\n",
       "      <td>1</td>\n",
       "      <td>18.97</td>\n",
       "      <td>8</td>\n",
       "      <td>18</td>\n",
       "      <td>17.00</td>\n",
       "      <td>...</td>\n",
       "      <td>0</td>\n",
       "      <td>0</td>\n",
       "      <td>0</td>\n",
       "      <td>0</td>\n",
       "      <td>0</td>\n",
       "      <td>0</td>\n",
       "      <td>1</td>\n",
       "      <td>0</td>\n",
       "      <td>0</td>\n",
       "      <td>0</td>\n",
       "    </tr>\n",
       "    <tr>\n",
       "      <th>2085874</th>\n",
       "      <td>4800</td>\n",
       "      <td>16.29</td>\n",
       "      <td>169.45</td>\n",
       "      <td>10</td>\n",
       "      <td>135000.0</td>\n",
       "      <td>1</td>\n",
       "      <td>17.34</td>\n",
       "      <td>9</td>\n",
       "      <td>24</td>\n",
       "      <td>7.00</td>\n",
       "      <td>...</td>\n",
       "      <td>0</td>\n",
       "      <td>0</td>\n",
       "      <td>0</td>\n",
       "      <td>0</td>\n",
       "      <td>0</td>\n",
       "      <td>0</td>\n",
       "      <td>0</td>\n",
       "      <td>0</td>\n",
       "      <td>0</td>\n",
       "      <td>0</td>\n",
       "    </tr>\n",
       "    <tr>\n",
       "      <th>6296667</th>\n",
       "      <td>35000</td>\n",
       "      <td>24.50</td>\n",
       "      <td>1017.07</td>\n",
       "      <td>10</td>\n",
       "      <td>150000.0</td>\n",
       "      <td>1</td>\n",
       "      <td>26.14</td>\n",
       "      <td>9</td>\n",
       "      <td>29</td>\n",
       "      <td>3.00</td>\n",
       "      <td>...</td>\n",
       "      <td>0</td>\n",
       "      <td>0</td>\n",
       "      <td>0</td>\n",
       "      <td>0</td>\n",
       "      <td>0</td>\n",
       "      <td>0</td>\n",
       "      <td>0</td>\n",
       "      <td>0</td>\n",
       "      <td>0</td>\n",
       "      <td>0</td>\n",
       "    </tr>\n",
       "    <tr>\n",
       "      <th>3929357</th>\n",
       "      <td>12000</td>\n",
       "      <td>12.12</td>\n",
       "      <td>399.26</td>\n",
       "      <td>7</td>\n",
       "      <td>41600.0</td>\n",
       "      <td>1</td>\n",
       "      <td>26.01</td>\n",
       "      <td>11</td>\n",
       "      <td>23</td>\n",
       "      <td>17.00</td>\n",
       "      <td>...</td>\n",
       "      <td>0</td>\n",
       "      <td>1</td>\n",
       "      <td>0</td>\n",
       "      <td>0</td>\n",
       "      <td>0</td>\n",
       "      <td>0</td>\n",
       "      <td>0</td>\n",
       "      <td>0</td>\n",
       "      <td>0</td>\n",
       "      <td>0</td>\n",
       "    </tr>\n",
       "    <tr>\n",
       "      <th>9664845</th>\n",
       "      <td>9600</td>\n",
       "      <td>14.47</td>\n",
       "      <td>330.31</td>\n",
       "      <td>5</td>\n",
       "      <td>65000.0</td>\n",
       "      <td>1</td>\n",
       "      <td>17.01</td>\n",
       "      <td>11</td>\n",
       "      <td>20</td>\n",
       "      <td>22.00</td>\n",
       "      <td>...</td>\n",
       "      <td>0</td>\n",
       "      <td>0</td>\n",
       "      <td>0</td>\n",
       "      <td>0</td>\n",
       "      <td>0</td>\n",
       "      <td>0</td>\n",
       "      <td>0</td>\n",
       "      <td>0</td>\n",
       "      <td>0</td>\n",
       "      <td>0</td>\n",
       "    </tr>\n",
       "  </tbody>\n",
       "</table>\n",
       "<p>9119 rows × 82 columns</p>\n",
       "</div>"
      ],
      "text/plain": [
       "         Loan_Amount  Interest_Rate  Installment  Employment_Length  \\\n",
       "Id                                                                    \n",
       "571203         18000          10.16       383.87                 10   \n",
       "641849         13200          18.49       480.47                  2   \n",
       "694891         15675           8.90       497.74                 10   \n",
       "734736         21600           7.90       675.87                 10   \n",
       "784712         16500           7.90       333.78                  2   \n",
       "...              ...            ...          ...                ...   \n",
       "8968302        16000          20.20       425.69                  8   \n",
       "2085874         4800          16.29       169.45                 10   \n",
       "6296667        35000          24.50      1017.07                 10   \n",
       "3929357        12000          12.12       399.26                  7   \n",
       "9664845         9600          14.47       330.31                  5   \n",
       "\n",
       "         Annual_Income  Loan_Status    DTI  Deliquency_in_2years  \\\n",
       "Id                                                                 \n",
       "571203         72804.0            1  16.73                     0   \n",
       "641849        110000.0            1  17.02                     0   \n",
       "694891        100000.0            1   9.10                     0   \n",
       "734736         95000.0            1   3.42                     0   \n",
       "784712         42000.0            0  10.43                     0   \n",
       "...                ...          ...    ...                   ...   \n",
       "8968302       126000.0            1  18.97                     8   \n",
       "2085874       135000.0            1  17.34                     9   \n",
       "6296667       150000.0            1  26.14                     9   \n",
       "3929357        41600.0            1  26.01                    11   \n",
       "9664845        65000.0            1  17.01                    11   \n",
       "\n",
       "         Credit_Line_Year  Months_since_Last_Deliquency  ...  State_SD  \\\n",
       "Id                                                       ...             \n",
       "571203                 23                         47.61  ...         0   \n",
       "641849                 18                         29.00  ...         0   \n",
       "694891                 24                         47.61  ...         0   \n",
       "734736                 19                         47.61  ...         0   \n",
       "784712                 25                         47.61  ...         0   \n",
       "...                   ...                           ...  ...       ...   \n",
       "8968302                18                         17.00  ...         0   \n",
       "2085874                24                          7.00  ...         0   \n",
       "6296667                29                          3.00  ...         0   \n",
       "3929357                23                         17.00  ...         0   \n",
       "9664845                20                         22.00  ...         0   \n",
       "\n",
       "         State_TN  State_TX  State_UT  State_VA  State_VT  State_WA  State_WI  \\\n",
       "Id                                                                              \n",
       "571203          0         0         0         0         0         0         0   \n",
       "641849          0         0         0         0         0         0         0   \n",
       "694891          0         0         0         0         0         1         0   \n",
       "734736          0         0         0         0         0         0         1   \n",
       "784712          0         0         0         0         0         0         0   \n",
       "...           ...       ...       ...       ...       ...       ...       ...   \n",
       "8968302         0         0         0         0         0         1         0   \n",
       "2085874         0         0         0         0         0         0         0   \n",
       "6296667         0         0         0         0         0         0         0   \n",
       "3929357         1         0         0         0         0         0         0   \n",
       "9664845         0         0         0         0         0         0         0   \n",
       "\n",
       "         State_WV  State_WY  \n",
       "Id                           \n",
       "571203          0         0  \n",
       "641849          0         0  \n",
       "694891          0         0  \n",
       "734736          0         0  \n",
       "784712          0         0  \n",
       "...           ...       ...  \n",
       "8968302         0         0  \n",
       "2085874         0         0  \n",
       "6296667         0         0  \n",
       "3929357         0         0  \n",
       "9664845         0         0  \n",
       "\n",
       "[9119 rows x 82 columns]"
      ]
     },
     "execution_count": 29,
     "metadata": {},
     "output_type": "execute_result"
    }
   ],
   "source": [
    "data"
   ]
  },
  {
   "cell_type": "code",
   "execution_count": 30,
   "metadata": {
    "ExecuteTime": {
     "end_time": "2021-02-17T07:10:51.676302Z",
     "start_time": "2021-02-17T07:10:51.534074Z"
    }
   },
   "outputs": [],
   "source": [
    "splitter=StratifiedShuffleSplit(test_size=0.5,random_state=42)\n",
    "for train_index,test_index in splitter.split(data,data['Loan_Status']):\n",
    "    train_set=data.iloc[train_index,:]\n",
    "    test_set=data.iloc[test_index,:]"
   ]
  },
  {
   "cell_type": "code",
   "execution_count": 31,
   "metadata": {
    "ExecuteTime": {
     "end_time": "2021-02-17T07:10:52.404364Z",
     "start_time": "2021-02-17T07:10:52.396442Z"
    }
   },
   "outputs": [],
   "source": [
    "X_train=train_set.drop('Loan_Status',axis=1)\n",
    "y_train=train_set['Loan_Status']"
   ]
  },
  {
   "cell_type": "code",
   "execution_count": 32,
   "metadata": {
    "ExecuteTime": {
     "end_time": "2021-02-17T07:10:54.699302Z",
     "start_time": "2021-02-17T07:10:54.693213Z"
    }
   },
   "outputs": [],
   "source": [
    "from sklearn.model_selection import GridSearchCV"
   ]
  },
  {
   "cell_type": "code",
   "execution_count": 33,
   "metadata": {
    "ExecuteTime": {
     "end_time": "2021-02-17T07:10:55.499145Z",
     "start_time": "2021-02-17T07:10:55.493118Z"
    }
   },
   "outputs": [],
   "source": [
    "logit=LogisticRegression(random_state=42)"
   ]
  },
  {
   "cell_type": "code",
   "execution_count": 34,
   "metadata": {
    "ExecuteTime": {
     "end_time": "2021-02-17T07:10:56.843110Z",
     "start_time": "2021-02-17T07:10:56.836999Z"
    }
   },
   "outputs": [],
   "source": [
    "param_grid_logit={'C':[10**i for i in [-5,-4,-3,-2,-1,0,1,2,3,4,5]],\n",
    "           'solver':['newton-cg','lbfgs','liblinear','sag','saga']}"
   ]
  },
  {
   "cell_type": "code",
   "execution_count": 35,
   "metadata": {
    "ExecuteTime": {
     "end_time": "2021-02-17T07:10:59.155758Z",
     "start_time": "2021-02-17T07:10:59.149017Z"
    }
   },
   "outputs": [],
   "source": [
    "grid_search_logit=GridSearchCV(estimator=logit,param_grid=param_grid_logit,scoring='roc_auc',n_jobs=-1,cv=3,return_train_score=True)"
   ]
  },
  {
   "cell_type": "code",
   "execution_count": 36,
   "metadata": {
    "ExecuteTime": {
     "end_time": "2021-02-17T07:11:24.324031Z",
     "start_time": "2021-02-17T07:11:00.117082Z"
    }
   },
   "outputs": [
    {
     "data": {
      "text/plain": [
       "GridSearchCV(cv=3, estimator=LogisticRegression(random_state=42), n_jobs=-1,\n",
       "             param_grid={'C': [1e-05, 0.0001, 0.001, 0.01, 0.1, 1, 10, 100,\n",
       "                               1000, 10000, 100000],\n",
       "                         'solver': ['newton-cg', 'lbfgs', 'liblinear', 'sag',\n",
       "                                    'saga']},\n",
       "             return_train_score=True, scoring='roc_auc')"
      ]
     },
     "execution_count": 36,
     "metadata": {},
     "output_type": "execute_result"
    }
   ],
   "source": [
    "grid_search_logit.fit(X_train,y_train)"
   ]
  },
  {
   "cell_type": "code",
   "execution_count": 37,
   "metadata": {
    "ExecuteTime": {
     "end_time": "2021-02-17T07:12:20.357697Z",
     "start_time": "2021-02-17T07:12:20.350020Z"
    }
   },
   "outputs": [
    {
     "data": {
      "text/plain": [
       "{'C': 0.01, 'solver': 'newton-cg'}"
      ]
     },
     "execution_count": 37,
     "metadata": {},
     "output_type": "execute_result"
    }
   ],
   "source": [
    "grid_search_logit.best_params_"
   ]
  },
  {
   "cell_type": "code",
   "execution_count": 38,
   "metadata": {
    "ExecuteTime": {
     "end_time": "2021-02-17T07:12:23.769799Z",
     "start_time": "2021-02-17T07:12:23.764897Z"
    }
   },
   "outputs": [],
   "source": [
    "logit=LogisticRegression(C=0.01,solver='newton-cg',random_state=42)"
   ]
  },
  {
   "cell_type": "code",
   "execution_count": 39,
   "metadata": {
    "ExecuteTime": {
     "end_time": "2021-02-17T07:12:26.477050Z",
     "start_time": "2021-02-17T07:12:24.813487Z"
    }
   },
   "outputs": [
    {
     "data": {
      "text/plain": [
       "LogisticRegression(C=0.01, random_state=42, solver='newton-cg')"
      ]
     },
     "execution_count": 39,
     "metadata": {},
     "output_type": "execute_result"
    }
   ],
   "source": [
    "logit.fit(X_train,y_train)"
   ]
  },
  {
   "cell_type": "code",
   "execution_count": 40,
   "metadata": {
    "ExecuteTime": {
     "end_time": "2021-02-17T07:12:34.046795Z",
     "start_time": "2021-02-17T07:12:32.582260Z"
    }
   },
   "outputs": [
    {
     "data": {
      "image/png": "[encoded data removed]",
      "text/plain": [
       "<Figure size 576x396 with 1 Axes>"
      ]
     },
     "metadata": {},
     "output_type": "display_data"
    },
    {
     "data": {
      "text/plain": [
       "<matplotlib.axes._subplots.AxesSubplot at 0x267feebcc48>"
      ]
     },
     "execution_count": 40,
     "metadata": {},
     "output_type": "execute_result"
    }
   ],
   "source": [
    "from yellowbrick.classifier import ConfusionMatrix\n",
    "cm = ConfusionMatrix(logit, classes=[0,1])\n",
    "cm.score(X_train, y_train)\n",
    "cm.show()"
   ]
  },
  {
   "cell_type": "code",
   "execution_count": 41,
   "metadata": {
    "ExecuteTime": {
     "end_time": "2021-02-17T07:12:38.589979Z",
     "start_time": "2021-02-17T07:12:38.581739Z"
    }
   },
   "outputs": [],
   "source": [
    "X_test=test_set.drop('Loan_Status',axis=1)\n",
    "y_test=test_set['Loan_Status']"
   ]
  },
  {
   "cell_type": "code",
   "execution_count": 42,
   "metadata": {
    "ExecuteTime": {
     "end_time": "2021-02-17T07:12:39.806152Z",
     "start_time": "2021-02-17T07:12:39.509289Z"
    }
   },
   "outputs": [
    {
     "data": {
      "image/png": "[encoded data removed]",
      "text/plain": [
       "<Figure size 576x396 with 1 Axes>"
      ]
     },
     "metadata": {},
     "output_type": "display_data"
    },
    {
     "data": {
      "text/plain": [
       "<matplotlib.axes._subplots.AxesSubplot at 0x2678100d908>"
      ]
     },
     "execution_count": 42,
     "metadata": {},
     "output_type": "execute_result"
    }
   ],
   "source": [
    "cm = ConfusionMatrix(logit, classes=[0,1])\n",
    "cm.score(X_test, y_test)\n",
    "cm.show()"
   ]
  },
  {
   "cell_type": "code",
   "execution_count": 43,
   "metadata": {
    "ExecuteTime": {
     "end_time": "2021-02-17T07:12:55.374459Z",
     "start_time": "2021-02-17T07:12:54.869269Z"
    }
   },
   "outputs": [
    {
     "data": {
      "image/png": "[encoded data removed]",
      "text/plain": [
       "<Figure size 576x396 with 2 Axes>"
      ]
     },
     "metadata": {},
     "output_type": "display_data"
    },
    {
     "data": {
      "text/plain": [
       "<matplotlib.axes._subplots.AxesSubplot at 0x2678105a288>"
      ]
     },
     "execution_count": 43,
     "metadata": {},
     "output_type": "execute_result"
    }
   ],
   "source": [
    "from yellowbrick.classifier import ClassificationReport\n",
    "classes = [\"Bad\", \"Good\"]\n",
    "visualizer = ClassificationReport(logit, classes=classes, support=True)\n",
    "visualizer.score(X_train, y_train)\n",
    "visualizer.show()"
   ]
  },
  {
   "cell_type": "code",
   "execution_count": 44,
   "metadata": {
    "ExecuteTime": {
     "end_time": "2021-02-17T07:13:00.276940Z",
     "start_time": "2021-02-17T07:12:59.814350Z"
    }
   },
   "outputs": [
    {
     "data": {
      "image/png": "[encoded data removed]",
      "text/plain": [
       "<Figure size 576x396 with 2 Axes>"
      ]
     },
     "metadata": {},
     "output_type": "display_data"
    },
    {
     "data": {
      "text/plain": [
       "<matplotlib.axes._subplots.AxesSubplot at 0x267820f1308>"
      ]
     },
     "execution_count": 44,
     "metadata": {},
     "output_type": "execute_result"
    }
   ],
   "source": [
    "from yellowbrick.classifier import ClassificationReport\n",
    "classes = [\"Bad\", \"Good\"]\n",
    "visualizer = ClassificationReport(logit, classes=classes, support=True)\n",
    "visualizer.score(X_test, y_test)\n",
    "visualizer.show()"
   ]
  },
  {
   "cell_type": "code",
   "execution_count": 45,
   "metadata": {
    "ExecuteTime": {
     "end_time": "2021-02-17T07:13:06.597726Z",
     "start_time": "2021-02-17T07:13:04.388839Z"
    }
   },
   "outputs": [
    {
     "data": {
      "image/png": "[encoded data removed]",
      "text/plain": [
       "<Figure size 576x396 with 1 Axes>"
      ]
     },
     "metadata": {},
     "output_type": "display_data"
    },
    {
     "data": {
      "text/plain": [
       "<matplotlib.axes._subplots.AxesSubplot at 0x267810f2cc8>"
      ]
     },
     "execution_count": 45,
     "metadata": {},
     "output_type": "execute_result"
    }
   ],
   "source": [
    "from yellowbrick.classifier import ROCAUC\n",
    "logit=LogisticRegression(C=0.01,solver='newton-cg',random_state=42,multi_class='auto')\n",
    "visualizer = ROCAUC(logit,classes=['Bad','Good'])\n",
    "visualizer.fit(X_train, y_train)\n",
    "visualizer.score(X_test,y_test)\n",
    "visualizer.show()"
   ]
  },
  {
   "cell_type": "code",
   "execution_count": 46,
   "metadata": {
    "ExecuteTime": {
     "end_time": "2021-02-17T07:13:11.598105Z",
     "start_time": "2021-02-17T07:13:11.444078Z"
    }
   },
   "outputs": [],
   "source": [
    "from sklearn.ensemble import RandomForestClassifier"
   ]
  },
  {
   "cell_type": "code",
   "execution_count": 47,
   "metadata": {
    "ExecuteTime": {
     "end_time": "2021-02-17T07:13:12.562188Z",
     "start_time": "2021-02-17T07:13:12.556872Z"
    }
   },
   "outputs": [],
   "source": [
    "forest=RandomForestClassifier(random_state=42)"
   ]
  },
  {
   "cell_type": "code",
   "execution_count": 52,
   "metadata": {
    "ExecuteTime": {
     "end_time": "2021-02-17T07:14:30.451219Z",
     "start_time": "2021-02-17T07:14:30.446145Z"
    }
   },
   "outputs": [],
   "source": [
    "param_grid_forest={'criterion':['gini','entropy'],\n",
    "           'max_depth':[i for i in range(1,21)]}"
   ]
  },
  {
   "cell_type": "code",
   "execution_count": 60,
   "metadata": {
    "ExecuteTime": {
     "end_time": "2021-02-17T07:16:46.757972Z",
     "start_time": "2021-02-17T07:16:46.750009Z"
    }
   },
   "outputs": [],
   "source": [
    "grid_search_forest=GridSearchCV(estimator=forest,param_grid=param_grid_forest,scoring='roc_auc',n_jobs=-1,cv=5,return_train_score=True)"
   ]
  },
  {
   "cell_type": "code",
   "execution_count": 61,
   "metadata": {
    "ExecuteTime": {
     "end_time": "2021-02-17T07:17:32.986658Z",
     "start_time": "2021-02-17T07:16:47.981563Z"
    }
   },
   "outputs": [
    {
     "data": {
      "text/plain": [
       "GridSearchCV(cv=5,\n",
       "             estimator=RandomForestClassifier(criterion='entropy', max_depth=9,\n",
       "                                              random_state=42),\n",
       "             n_jobs=-1,\n",
       "             param_grid={'criterion': ['gini', 'entropy'],\n",
       "                         'max_depth': [1, 2, 3, 4, 5, 6, 7, 8, 9, 10, 11, 12,\n",
       "                                       13, 14, 15, 16, 17, 18, 19, 20]},\n",
       "             return_train_score=True, scoring='roc_auc')"
      ]
     },
     "execution_count": 61,
     "metadata": {},
     "output_type": "execute_result"
    }
   ],
   "source": [
    "grid_search_forest.fit(X_train,y_train)"
   ]
  },
  {
   "cell_type": "code",
   "execution_count": 62,
   "metadata": {
    "ExecuteTime": {
     "end_time": "2021-02-17T07:17:37.413769Z",
     "start_time": "2021-02-17T07:17:37.405946Z"
    }
   },
   "outputs": [
    {
     "data": {
      "text/plain": [
       "{'criterion': 'entropy', 'max_depth': 9}"
      ]
     },
     "execution_count": 62,
     "metadata": {},
     "output_type": "execute_result"
    }
   ],
   "source": [
    "grid_search_forest.best_params_"
   ]
  },
  {
   "cell_type": "code",
   "execution_count": 63,
   "metadata": {
    "ExecuteTime": {
     "end_time": "2021-02-17T07:17:59.251200Z",
     "start_time": "2021-02-17T07:17:59.245267Z"
    }
   },
   "outputs": [],
   "source": [
    "forest=RandomForestClassifier(max_depth=9,random_state=42,criterion='entropy')"
   ]
  },
  {
   "cell_type": "code",
   "execution_count": 64,
   "metadata": {
    "ExecuteTime": {
     "end_time": "2021-02-17T07:18:01.596056Z",
     "start_time": "2021-02-17T07:18:00.141585Z"
    }
   },
   "outputs": [
    {
     "data": {
      "text/plain": [
       "RandomForestClassifier(criterion='entropy', max_depth=9, random_state=42)"
      ]
     },
     "execution_count": 64,
     "metadata": {},
     "output_type": "execute_result"
    }
   ],
   "source": [
    "forest.fit(X_train,y_train)"
   ]
  },
  {
   "cell_type": "code",
   "execution_count": 65,
   "metadata": {
    "ExecuteTime": {
     "end_time": "2021-02-17T07:18:06.520130Z",
     "start_time": "2021-02-17T07:18:05.944472Z"
    }
   },
   "outputs": [
    {
     "data": {
      "image/png": "[encoded data removed]",
      "text/plain": [
       "<Figure size 576x396 with 1 Axes>"
      ]
     },
     "metadata": {},
     "output_type": "display_data"
    },
    {
     "data": {
      "text/plain": [
       "<matplotlib.axes._subplots.AxesSubplot at 0x267839d6988>"
      ]
     },
     "execution_count": 65,
     "metadata": {},
     "output_type": "execute_result"
    }
   ],
   "source": [
    "cm = ConfusionMatrix(forest, classes=[0,1])\n",
    "cm.score(X_train, y_train)\n",
    "cm.show()"
   ]
  },
  {
   "cell_type": "code",
   "execution_count": 66,
   "metadata": {
    "ExecuteTime": {
     "end_time": "2021-02-17T07:18:10.918517Z",
     "start_time": "2021-02-17T07:18:10.485924Z"
    }
   },
   "outputs": [
    {
     "data": {
      "image/png": "[encoded data removed]",
      "text/plain": [
       "<Figure size 576x396 with 1 Axes>"
      ]
     },
     "metadata": {},
     "output_type": "display_data"
    },
    {
     "data": {
      "text/plain": [
       "<matplotlib.axes._subplots.AxesSubplot at 0x267839fa108>"
      ]
     },
     "execution_count": 66,
     "metadata": {},
     "output_type": "execute_result"
    }
   ],
   "source": [
    "cm = ConfusionMatrix(forest, classes=[0,1])\n",
    "cm.score(X_test, y_test)\n",
    "cm.show()"
   ]
  },
  {
   "cell_type": "code",
   "execution_count": 56,
   "metadata": {
    "ExecuteTime": {
     "end_time": "2021-02-17T04:20:26.933735Z",
     "start_time": "2021-02-17T04:20:26.133612Z"
    }
   },
   "outputs": [
    {
     "data": {
      "image/png": "[encoded data removed]",
      "text/plain": [
       "<Figure size 576x396 with 2 Axes>"
      ]
     },
     "metadata": {},
     "output_type": "display_data"
    },
    {
     "data": {
      "text/plain": [
       "<matplotlib.axes._subplots.AxesSubplot at 0x1f53d24cd48>"
      ]
     },
     "execution_count": 56,
     "metadata": {},
     "output_type": "execute_result"
    }
   ],
   "source": [
    "classes = [\"Bad\", \"Good\"]\n",
    "visualizer = ClassificationReport(forest, classes=classes, support=True)\n",
    "visualizer.score(X_train, y_train)\n",
    "visualizer.show()"
   ]
  },
  {
   "cell_type": "code",
   "execution_count": 57,
   "metadata": {
    "ExecuteTime": {
     "end_time": "2021-02-17T04:20:29.369861Z",
     "start_time": "2021-02-17T04:20:28.614992Z"
    }
   },
   "outputs": [
    {
     "data": {
      "image/png": "[encoded data removed]",
      "text/plain": [
       "<Figure size 576x396 with 2 Axes>"
      ]
     },
     "metadata": {},
     "output_type": "display_data"
    },
    {
     "data": {
      "text/plain": [
       "<matplotlib.axes._subplots.AxesSubplot at 0x1f53d2f5b48>"
      ]
     },
     "execution_count": 57,
     "metadata": {},
     "output_type": "execute_result"
    }
   ],
   "source": [
    "visualizer = ClassificationReport(forest, classes=classes, support=True)\n",
    "visualizer.score(X_test, y_test)\n",
    "visualizer.show()"
   ]
  },
  {
   "cell_type": "code",
   "execution_count": 59,
   "metadata": {
    "ExecuteTime": {
     "end_time": "2021-02-17T04:20:40.402717Z",
     "start_time": "2021-02-17T04:20:38.126203Z"
    }
   },
   "outputs": [
    {
     "data": {
      "image/png": "[encoded data removed]",
      "text/plain": [
       "<Figure size 576x396 with 1 Axes>"
      ]
     },
     "metadata": {},
     "output_type": "display_data"
    },
    {
     "data": {
      "text/plain": [
       "<matplotlib.axes._subplots.AxesSubplot at 0x1f53c9ceac8>"
      ]
     },
     "execution_count": 59,
     "metadata": {},
     "output_type": "execute_result"
    }
   ],
   "source": [
    "forest=RandomForestClassifier(max_depth=20,random_state=42)\n",
    "visualizer = ROCAUC(forest,classes=['Bad','Good'])\n",
    "visualizer.fit(X_train, y_train)\n",
    "visualizer.score(X_test,y_test)\n",
    "visualizer.show()"
   ]
  },
  {
   "cell_type": "code",
   "execution_count": null,
   "metadata": {},
   "outputs": [],
   "source": []
  }
 ],
 "metadata": {
  "kernelspec": {
   "display_name": "Python 3",
   "language": "python",
   "name": "python3"
  },
  "language_info": {
   "codemirror_mode": {
    "name": "ipython",
    "version": 3
   },
   "file_extension": ".py",
   "mimetype": "text/x-python",
   "name": "python",
   "nbconvert_exporter": "python",
   "pygments_lexer": "ipython3",
   "version": "3.7.6"
  },
  "toc": {
   "base_numbering": 1,
   "nav_menu": {},
   "number_sections": true,
   "sideBar": true,
   "skip_h1_title": false,
   "title_cell": "Table of Contents",
   "title_sidebar": "Contents",
   "toc_cell": false,
   "toc_position": {},
   "toc_section_display": true,
   "toc_window_display": false
  },
  "varInspector": {
   "cols": {
    "lenName": 16,
    "lenType": 16,
    "lenVar": 40
   },
   "kernels_config": {
    "python": {
     "delete_cmd_postfix": "",
     "delete_cmd_prefix": "del ",
     "library": "var_list.py",
     "varRefreshCmd": "print(var_dic_list())"
    },
    "r": {
     "delete_cmd_postfix": ") ",
     "delete_cmd_prefix": "rm(",
     "library": "var_list.r",
     "varRefreshCmd": "cat(var_dic_list()) "
    }
   },
   "types_to_exclude": [
    "module",
    "function",
    "builtin_function_or_method",
    "instance",
    "_Feature"
   ],
   "window_display": false
  }
 },
 "nbformat": 4,
 "nbformat_minor": 4
}
