{
 "cells": [
  {
   "cell_type": "code",
   "execution_count": 1,
   "metadata": {
    "ExecuteTime": {
     "end_time": "2021-02-17T07:28:49.637609Z",
     "start_time": "2021-02-17T07:28:47.330551Z"
    }
   },
   "outputs": [],
   "source": [
    "import pandas as pd\n",
    "import numpy as np\n",
    "from sklearn.linear_model import LogisticRegression\n",
    "from sklearn.model_selection import StratifiedShuffleSplit\n",
    "import warnings"
   ]
  },
  {
   "cell_type": "code",
   "execution_count": 2,
   "metadata": {
    "ExecuteTime": {
     "end_time": "2021-02-17T07:28:49.662413Z",
     "start_time": "2021-02-17T07:28:49.655302Z"
    }
   },
   "outputs": [],
   "source": [
    "warnings.filterwarnings('ignore')"
   ]
  },
  {
   "cell_type": "code",
   "execution_count": 3,
   "metadata": {
    "ExecuteTime": {
     "end_time": "2021-02-17T07:28:51.418053Z",
     "start_time": "2021-02-17T07:28:51.342450Z"
    }
   },
   "outputs": [],
   "source": [
    "filepath='loan.csv'\n",
    "data = pd.read_csv(filepath_or_buffer=filepath,sep=',',parse_dates=True,header=0)"
   ]
  },
  {
   "cell_type": "code",
   "execution_count": 4,
   "metadata": {
    "ExecuteTime": {
     "end_time": "2021-02-17T07:28:52.246847Z",
     "start_time": "2021-02-17T07:28:52.176440Z"
    }
   },
   "outputs": [
    {
     "data": {
      "text/html": [
       "<div>\n",
       "<style scoped>\n",
       "    .dataframe tbody tr th:only-of-type {\n",
       "        vertical-align: middle;\n",
       "    }\n",
       "\n",
       "    .dataframe tbody tr th {\n",
       "        vertical-align: top;\n",
       "    }\n",
       "\n",
       "    .dataframe thead th {\n",
       "        text-align: right;\n",
       "    }\n",
       "</style>\n",
       "<table border=\"1\" class=\"dataframe\">\n",
       "  <thead>\n",
       "    <tr style=\"text-align: right;\">\n",
       "      <th></th>\n",
       "      <th>Unnamed: 0</th>\n",
       "      <th>id</th>\n",
       "      <th>loan_amnt</th>\n",
       "      <th>funded_amnt</th>\n",
       "      <th>term</th>\n",
       "      <th>int_rate</th>\n",
       "      <th>installment</th>\n",
       "      <th>emp_length</th>\n",
       "      <th>home_ownership</th>\n",
       "      <th>annual_inc</th>\n",
       "      <th>...</th>\n",
       "      <th>delinq_2yrs</th>\n",
       "      <th>earliest_cr_line</th>\n",
       "      <th>mths_since_last_delinq</th>\n",
       "      <th>open_acc</th>\n",
       "      <th>revol_bal</th>\n",
       "      <th>total_acc</th>\n",
       "      <th>out_prncp</th>\n",
       "      <th>total_pymnt</th>\n",
       "      <th>total_rec_prncp</th>\n",
       "      <th>total_rec_int</th>\n",
       "    </tr>\n",
       "  </thead>\n",
       "  <tbody>\n",
       "    <tr>\n",
       "      <th>0</th>\n",
       "      <td>20</td>\n",
       "      <td>571203</td>\n",
       "      <td>18000</td>\n",
       "      <td>18000</td>\n",
       "      <td>60 months</td>\n",
       "      <td>10.16%</td>\n",
       "      <td>383.87</td>\n",
       "      <td>10+ years</td>\n",
       "      <td>MORTGAGE</td>\n",
       "      <td>72804.0</td>\n",
       "      <td>...</td>\n",
       "      <td>0.0</td>\n",
       "      <td>1995-12-27 02:06</td>\n",
       "      <td>NaN</td>\n",
       "      <td>21.0</td>\n",
       "      <td>8751.0</td>\n",
       "      <td>49.0</td>\n",
       "      <td>13263.18</td>\n",
       "      <td>7273.77</td>\n",
       "      <td>4736.82</td>\n",
       "      <td>2536.95</td>\n",
       "    </tr>\n",
       "    <tr>\n",
       "      <th>1</th>\n",
       "      <td>40</td>\n",
       "      <td>641849</td>\n",
       "      <td>13200</td>\n",
       "      <td>13200</td>\n",
       "      <td>36 months</td>\n",
       "      <td>18.49%</td>\n",
       "      <td>480.47</td>\n",
       "      <td>2 years</td>\n",
       "      <td>RENT</td>\n",
       "      <td>110000.0</td>\n",
       "      <td>...</td>\n",
       "      <td>0.0</td>\n",
       "      <td>2000-12-11 11:15</td>\n",
       "      <td>29.0</td>\n",
       "      <td>16.0</td>\n",
       "      <td>16062.0</td>\n",
       "      <td>36.0</td>\n",
       "      <td>10546.93</td>\n",
       "      <td>4324.23</td>\n",
       "      <td>2653.07</td>\n",
       "      <td>1671.16</td>\n",
       "    </tr>\n",
       "    <tr>\n",
       "      <th>2</th>\n",
       "      <td>60</td>\n",
       "      <td>694891</td>\n",
       "      <td>15675</td>\n",
       "      <td>15675</td>\n",
       "      <td>36 months</td>\n",
       "      <td>8.90%</td>\n",
       "      <td>497.74</td>\n",
       "      <td>10+ years</td>\n",
       "      <td>MORTGAGE</td>\n",
       "      <td>100000.0</td>\n",
       "      <td>...</td>\n",
       "      <td>0.0</td>\n",
       "      <td>1994-04-07 12:00</td>\n",
       "      <td>NaN</td>\n",
       "      <td>16.0</td>\n",
       "      <td>20650.0</td>\n",
       "      <td>45.0</td>\n",
       "      <td>15294.25</td>\n",
       "      <td>496.78</td>\n",
       "      <td>380.75</td>\n",
       "      <td>116.03</td>\n",
       "    </tr>\n",
       "    <tr>\n",
       "      <th>3</th>\n",
       "      <td>80</td>\n",
       "      <td>734736</td>\n",
       "      <td>21600</td>\n",
       "      <td>21600</td>\n",
       "      <td>36 months</td>\n",
       "      <td>7.90%</td>\n",
       "      <td>675.87</td>\n",
       "      <td>10+ years</td>\n",
       "      <td>MORTGAGE</td>\n",
       "      <td>95000.0</td>\n",
       "      <td>...</td>\n",
       "      <td>0.0</td>\n",
       "      <td>1999-05-05 10:59</td>\n",
       "      <td>NaN</td>\n",
       "      <td>9.0</td>\n",
       "      <td>416.0</td>\n",
       "      <td>24.0</td>\n",
       "      <td>0.00</td>\n",
       "      <td>23521.69</td>\n",
       "      <td>21600.00</td>\n",
       "      <td>1921.69</td>\n",
       "    </tr>\n",
       "    <tr>\n",
       "      <th>4</th>\n",
       "      <td>100</td>\n",
       "      <td>784712</td>\n",
       "      <td>16500</td>\n",
       "      <td>16500</td>\n",
       "      <td>60 months</td>\n",
       "      <td>7.90%</td>\n",
       "      <td>333.78</td>\n",
       "      <td>2 years</td>\n",
       "      <td>MORTGAGE</td>\n",
       "      <td>42000.0</td>\n",
       "      <td>...</td>\n",
       "      <td>0.0</td>\n",
       "      <td>1993-07-16 08:41</td>\n",
       "      <td>NaN</td>\n",
       "      <td>9.0</td>\n",
       "      <td>2229.0</td>\n",
       "      <td>17.0</td>\n",
       "      <td>12966.64</td>\n",
       "      <td>5000.85</td>\n",
       "      <td>3533.36</td>\n",
       "      <td>1467.49</td>\n",
       "    </tr>\n",
       "  </tbody>\n",
       "</table>\n",
       "<p>5 rows × 24 columns</p>\n",
       "</div>"
      ],
      "text/plain": [
       "   Unnamed: 0      id  loan_amnt  funded_amnt        term int_rate  \\\n",
       "0          20  571203      18000        18000   60 months   10.16%   \n",
       "1          40  641849      13200        13200   36 months   18.49%   \n",
       "2          60  694891      15675        15675   36 months    8.90%   \n",
       "3          80  734736      21600        21600   36 months    7.90%   \n",
       "4         100  784712      16500        16500   60 months    7.90%   \n",
       "\n",
       "   installment emp_length home_ownership  annual_inc  ... delinq_2yrs  \\\n",
       "0       383.87  10+ years       MORTGAGE     72804.0  ...         0.0   \n",
       "1       480.47    2 years           RENT    110000.0  ...         0.0   \n",
       "2       497.74  10+ years       MORTGAGE    100000.0  ...         0.0   \n",
       "3       675.87  10+ years       MORTGAGE     95000.0  ...         0.0   \n",
       "4       333.78    2 years       MORTGAGE     42000.0  ...         0.0   \n",
       "\n",
       "   earliest_cr_line mths_since_last_delinq  open_acc  revol_bal total_acc  \\\n",
       "0  1995-12-27 02:06                    NaN      21.0     8751.0      49.0   \n",
       "1  2000-12-11 11:15                   29.0      16.0    16062.0      36.0   \n",
       "2  1994-04-07 12:00                    NaN      16.0    20650.0      45.0   \n",
       "3  1999-05-05 10:59                    NaN       9.0      416.0      24.0   \n",
       "4  1993-07-16 08:41                    NaN       9.0     2229.0      17.0   \n",
       "\n",
       "   out_prncp  total_pymnt  total_rec_prncp  total_rec_int  \n",
       "0   13263.18      7273.77          4736.82        2536.95  \n",
       "1   10546.93      4324.23          2653.07        1671.16  \n",
       "2   15294.25       496.78           380.75         116.03  \n",
       "3       0.00     23521.69         21600.00        1921.69  \n",
       "4   12966.64      5000.85          3533.36        1467.49  \n",
       "\n",
       "[5 rows x 24 columns]"
      ]
     },
     "execution_count": 4,
     "metadata": {},
     "output_type": "execute_result"
    }
   ],
   "source": [
    "data.head()"
   ]
  },
  {
   "cell_type": "code",
   "execution_count": 5,
   "metadata": {
    "ExecuteTime": {
     "end_time": "2021-02-17T07:28:54.834426Z",
     "start_time": "2021-02-17T07:28:54.823036Z"
    }
   },
   "outputs": [],
   "source": [
    "#drop the first column of the data (has no real meaning)\n",
    "data.drop('Unnamed: 0',axis=1,inplace=True)"
   ]
  },
  {
   "cell_type": "code",
   "execution_count": 6,
   "metadata": {
    "ExecuteTime": {
     "end_time": "2021-02-17T07:28:55.626835Z",
     "start_time": "2021-02-17T07:28:55.605060Z"
    }
   },
   "outputs": [],
   "source": [
    "#drop the record with two many NaNs.\n",
    "data = data.dropna(thresh= 5)"
   ]
  },
  {
   "cell_type": "code",
   "execution_count": 7,
   "metadata": {
    "ExecuteTime": {
     "end_time": "2021-02-17T07:28:56.675196Z",
     "start_time": "2021-02-17T07:28:56.669769Z"
    }
   },
   "outputs": [],
   "source": [
    "data.columns=[column.title() for column in data.columns]"
   ]
  },
  {
   "cell_type": "code",
   "execution_count": 8,
   "metadata": {
    "ExecuteTime": {
     "end_time": "2021-02-17T07:28:59.244724Z",
     "start_time": "2021-02-17T07:28:59.236567Z"
    }
   },
   "outputs": [],
   "source": [
    "#set the 'Id' column to be the index of the data.\n",
    "data.set_index('Id',inplace=True,verify_integrity=True)"
   ]
  },
  {
   "cell_type": "code",
   "execution_count": 9,
   "metadata": {
    "ExecuteTime": {
     "end_time": "2021-02-17T07:29:00.029971Z",
     "start_time": "2021-02-17T07:29:00.014283Z"
    }
   },
   "outputs": [],
   "source": [
    "#drop the record with NaN in 'Emp_Length' column.\n",
    "data.dropna(subset=['Emp_Length'],inplace=True)"
   ]
  },
  {
   "cell_type": "code",
   "execution_count": 10,
   "metadata": {
    "ExecuteTime": {
     "end_time": "2021-02-17T07:29:02.745390Z",
     "start_time": "2021-02-17T07:29:01.884118Z"
    }
   },
   "outputs": [],
   "source": [
    "data=data.groupby('Delinq_2Yrs').apply(lambda g:g.fillna(np.round(g.mean(),2)))"
   ]
  },
  {
   "cell_type": "code",
   "execution_count": 11,
   "metadata": {
    "ExecuteTime": {
     "end_time": "2021-02-17T07:29:05.844002Z",
     "start_time": "2021-02-17T07:29:05.837836Z"
    }
   },
   "outputs": [],
   "source": [
    "data.reset_index(level=0,drop=True,inplace=True)"
   ]
  },
  {
   "cell_type": "code",
   "execution_count": 12,
   "metadata": {
    "ExecuteTime": {
     "end_time": "2021-02-17T07:29:06.419872Z",
     "start_time": "2021-02-17T07:29:06.357659Z"
    }
   },
   "outputs": [
    {
     "data": {
      "text/html": [
       "<div>\n",
       "<style scoped>\n",
       "    .dataframe tbody tr th:only-of-type {\n",
       "        vertical-align: middle;\n",
       "    }\n",
       "\n",
       "    .dataframe tbody tr th {\n",
       "        vertical-align: top;\n",
       "    }\n",
       "\n",
       "    .dataframe thead th {\n",
       "        text-align: right;\n",
       "    }\n",
       "</style>\n",
       "<table border=\"1\" class=\"dataframe\">\n",
       "  <thead>\n",
       "    <tr style=\"text-align: right;\">\n",
       "      <th></th>\n",
       "      <th>Loan_Amnt</th>\n",
       "      <th>Funded_Amnt</th>\n",
       "      <th>Term</th>\n",
       "      <th>Int_Rate</th>\n",
       "      <th>Installment</th>\n",
       "      <th>Emp_Length</th>\n",
       "      <th>Home_Ownership</th>\n",
       "      <th>Annual_Inc</th>\n",
       "      <th>Loan_Status</th>\n",
       "      <th>Purpose</th>\n",
       "      <th>...</th>\n",
       "      <th>Delinq_2Yrs</th>\n",
       "      <th>Earliest_Cr_Line</th>\n",
       "      <th>Mths_Since_Last_Delinq</th>\n",
       "      <th>Open_Acc</th>\n",
       "      <th>Revol_Bal</th>\n",
       "      <th>Total_Acc</th>\n",
       "      <th>Out_Prncp</th>\n",
       "      <th>Total_Pymnt</th>\n",
       "      <th>Total_Rec_Prncp</th>\n",
       "      <th>Total_Rec_Int</th>\n",
       "    </tr>\n",
       "    <tr>\n",
       "      <th>Id</th>\n",
       "      <th></th>\n",
       "      <th></th>\n",
       "      <th></th>\n",
       "      <th></th>\n",
       "      <th></th>\n",
       "      <th></th>\n",
       "      <th></th>\n",
       "      <th></th>\n",
       "      <th></th>\n",
       "      <th></th>\n",
       "      <th></th>\n",
       "      <th></th>\n",
       "      <th></th>\n",
       "      <th></th>\n",
       "      <th></th>\n",
       "      <th></th>\n",
       "      <th></th>\n",
       "      <th></th>\n",
       "      <th></th>\n",
       "      <th></th>\n",
       "      <th></th>\n",
       "    </tr>\n",
       "  </thead>\n",
       "  <tbody>\n",
       "    <tr>\n",
       "      <th>571203</th>\n",
       "      <td>18000</td>\n",
       "      <td>18000</td>\n",
       "      <td>60 months</td>\n",
       "      <td>10.16%</td>\n",
       "      <td>383.87</td>\n",
       "      <td>10+ years</td>\n",
       "      <td>MORTGAGE</td>\n",
       "      <td>72804.0</td>\n",
       "      <td>Current</td>\n",
       "      <td>credit_card</td>\n",
       "      <td>...</td>\n",
       "      <td>0.0</td>\n",
       "      <td>1995-12-27 02:06</td>\n",
       "      <td>47.61</td>\n",
       "      <td>21.0</td>\n",
       "      <td>8751.0</td>\n",
       "      <td>49.0</td>\n",
       "      <td>13263.18</td>\n",
       "      <td>7273.77</td>\n",
       "      <td>4736.82</td>\n",
       "      <td>2536.95</td>\n",
       "    </tr>\n",
       "    <tr>\n",
       "      <th>641849</th>\n",
       "      <td>13200</td>\n",
       "      <td>13200</td>\n",
       "      <td>36 months</td>\n",
       "      <td>18.49%</td>\n",
       "      <td>480.47</td>\n",
       "      <td>2 years</td>\n",
       "      <td>RENT</td>\n",
       "      <td>110000.0</td>\n",
       "      <td>Current</td>\n",
       "      <td>debt_consolidation</td>\n",
       "      <td>...</td>\n",
       "      <td>0.0</td>\n",
       "      <td>2000-12-11 11:15</td>\n",
       "      <td>29.00</td>\n",
       "      <td>16.0</td>\n",
       "      <td>16062.0</td>\n",
       "      <td>36.0</td>\n",
       "      <td>10546.93</td>\n",
       "      <td>4324.23</td>\n",
       "      <td>2653.07</td>\n",
       "      <td>1671.16</td>\n",
       "    </tr>\n",
       "    <tr>\n",
       "      <th>694891</th>\n",
       "      <td>15675</td>\n",
       "      <td>15675</td>\n",
       "      <td>36 months</td>\n",
       "      <td>8.90%</td>\n",
       "      <td>497.74</td>\n",
       "      <td>10+ years</td>\n",
       "      <td>MORTGAGE</td>\n",
       "      <td>100000.0</td>\n",
       "      <td>Current</td>\n",
       "      <td>small_business</td>\n",
       "      <td>...</td>\n",
       "      <td>0.0</td>\n",
       "      <td>1994-04-07 12:00</td>\n",
       "      <td>47.61</td>\n",
       "      <td>16.0</td>\n",
       "      <td>20650.0</td>\n",
       "      <td>45.0</td>\n",
       "      <td>15294.25</td>\n",
       "      <td>496.78</td>\n",
       "      <td>380.75</td>\n",
       "      <td>116.03</td>\n",
       "    </tr>\n",
       "    <tr>\n",
       "      <th>734736</th>\n",
       "      <td>21600</td>\n",
       "      <td>21600</td>\n",
       "      <td>36 months</td>\n",
       "      <td>7.90%</td>\n",
       "      <td>675.87</td>\n",
       "      <td>10+ years</td>\n",
       "      <td>MORTGAGE</td>\n",
       "      <td>95000.0</td>\n",
       "      <td>Fully Paid</td>\n",
       "      <td>house</td>\n",
       "      <td>...</td>\n",
       "      <td>0.0</td>\n",
       "      <td>1999-05-05 10:59</td>\n",
       "      <td>47.61</td>\n",
       "      <td>9.0</td>\n",
       "      <td>416.0</td>\n",
       "      <td>24.0</td>\n",
       "      <td>0.00</td>\n",
       "      <td>23521.69</td>\n",
       "      <td>21600.00</td>\n",
       "      <td>1921.69</td>\n",
       "    </tr>\n",
       "    <tr>\n",
       "      <th>784712</th>\n",
       "      <td>16500</td>\n",
       "      <td>16500</td>\n",
       "      <td>60 months</td>\n",
       "      <td>7.90%</td>\n",
       "      <td>333.78</td>\n",
       "      <td>2 years</td>\n",
       "      <td>MORTGAGE</td>\n",
       "      <td>42000.0</td>\n",
       "      <td>Late (31-120 days)</td>\n",
       "      <td>small_business</td>\n",
       "      <td>...</td>\n",
       "      <td>0.0</td>\n",
       "      <td>1993-07-16 08:41</td>\n",
       "      <td>47.61</td>\n",
       "      <td>9.0</td>\n",
       "      <td>2229.0</td>\n",
       "      <td>17.0</td>\n",
       "      <td>12966.64</td>\n",
       "      <td>5000.85</td>\n",
       "      <td>3533.36</td>\n",
       "      <td>1467.49</td>\n",
       "    </tr>\n",
       "  </tbody>\n",
       "</table>\n",
       "<p>5 rows × 22 columns</p>\n",
       "</div>"
      ],
      "text/plain": [
       "        Loan_Amnt  Funded_Amnt        Term Int_Rate  Installment Emp_Length  \\\n",
       "Id                                                                            \n",
       "571203      18000        18000   60 months   10.16%       383.87  10+ years   \n",
       "641849      13200        13200   36 months   18.49%       480.47    2 years   \n",
       "694891      15675        15675   36 months    8.90%       497.74  10+ years   \n",
       "734736      21600        21600   36 months    7.90%       675.87  10+ years   \n",
       "784712      16500        16500   60 months    7.90%       333.78    2 years   \n",
       "\n",
       "       Home_Ownership  Annual_Inc         Loan_Status             Purpose  \\\n",
       "Id                                                                          \n",
       "571203       MORTGAGE     72804.0             Current         credit_card   \n",
       "641849           RENT    110000.0             Current  debt_consolidation   \n",
       "694891       MORTGAGE    100000.0             Current      small_business   \n",
       "734736       MORTGAGE     95000.0          Fully Paid               house   \n",
       "784712       MORTGAGE     42000.0  Late (31-120 days)      small_business   \n",
       "\n",
       "        ... Delinq_2Yrs  Earliest_Cr_Line  Mths_Since_Last_Delinq Open_Acc  \\\n",
       "Id      ...                                                                  \n",
       "571203  ...         0.0  1995-12-27 02:06                   47.61     21.0   \n",
       "641849  ...         0.0  2000-12-11 11:15                   29.00     16.0   \n",
       "694891  ...         0.0  1994-04-07 12:00                   47.61     16.0   \n",
       "734736  ...         0.0  1999-05-05 10:59                   47.61      9.0   \n",
       "784712  ...         0.0  1993-07-16 08:41                   47.61      9.0   \n",
       "\n",
       "        Revol_Bal  Total_Acc  Out_Prncp  Total_Pymnt  Total_Rec_Prncp  \\\n",
       "Id                                                                      \n",
       "571203     8751.0       49.0   13263.18      7273.77          4736.82   \n",
       "641849    16062.0       36.0   10546.93      4324.23          2653.07   \n",
       "694891    20650.0       45.0   15294.25       496.78           380.75   \n",
       "734736      416.0       24.0       0.00     23521.69         21600.00   \n",
       "784712     2229.0       17.0   12966.64      5000.85          3533.36   \n",
       "\n",
       "        Total_Rec_Int  \n",
       "Id                     \n",
       "571203        2536.95  \n",
       "641849        1671.16  \n",
       "694891         116.03  \n",
       "734736        1921.69  \n",
       "784712        1467.49  \n",
       "\n",
       "[5 rows x 22 columns]"
      ]
     },
     "execution_count": 12,
     "metadata": {},
     "output_type": "execute_result"
    }
   ],
   "source": [
    "data.head()"
   ]
  },
  {
   "cell_type": "code",
   "execution_count": 13,
   "metadata": {
    "ExecuteTime": {
     "end_time": "2021-02-17T07:29:09.133427Z",
     "start_time": "2021-02-17T07:29:09.127859Z"
    }
   },
   "outputs": [],
   "source": [
    "def interest(x):\n",
    "    x=float(x.strip('%'))\n",
    "    return x"
   ]
  },
  {
   "cell_type": "code",
   "execution_count": 14,
   "metadata": {
    "ExecuteTime": {
     "end_time": "2021-02-17T07:29:09.834128Z",
     "start_time": "2021-02-17T07:29:09.796999Z"
    }
   },
   "outputs": [],
   "source": [
    "data[['Int_Rate']]=data[['Int_Rate']].applymap(interest)"
   ]
  },
  {
   "cell_type": "code",
   "execution_count": 15,
   "metadata": {
    "ExecuteTime": {
     "end_time": "2021-02-17T07:29:11.996005Z",
     "start_time": "2021-02-17T07:29:11.989008Z"
    }
   },
   "outputs": [],
   "source": [
    "def credit_line_year(x):\n",
    "    x=int(x.split('-')[0])\n",
    "    return x"
   ]
  },
  {
   "cell_type": "code",
   "execution_count": 16,
   "metadata": {
    "ExecuteTime": {
     "end_time": "2021-02-17T07:29:12.654661Z",
     "start_time": "2021-02-17T07:29:12.612399Z"
    }
   },
   "outputs": [],
   "source": [
    "data[['Earliest_Cr_Line']]=data[['Earliest_Cr_Line']].applymap(credit_line_year)"
   ]
  },
  {
   "cell_type": "code",
   "execution_count": 17,
   "metadata": {
    "ExecuteTime": {
     "end_time": "2021-02-17T07:29:13.178321Z",
     "start_time": "2021-02-17T07:29:13.149069Z"
    }
   },
   "outputs": [],
   "source": [
    "data['Earliest_Cr_Line']=2018-data['Earliest_Cr_Line']"
   ]
  },
  {
   "cell_type": "code",
   "execution_count": 18,
   "metadata": {
    "ExecuteTime": {
     "end_time": "2021-02-17T07:29:13.700160Z",
     "start_time": "2021-02-17T07:29:13.693156Z"
    }
   },
   "outputs": [],
   "source": [
    "def employment(x):\n",
    "    x=x.split(' ')[0]\n",
    "    if x=='10+':\n",
    "        x=10\n",
    "    elif x=='<':\n",
    "        x=0\n",
    "    else:\n",
    "        x=int(x)\n",
    "    return x"
   ]
  },
  {
   "cell_type": "code",
   "execution_count": 19,
   "metadata": {
    "ExecuteTime": {
     "end_time": "2021-02-17T07:29:16.482811Z",
     "start_time": "2021-02-17T07:29:16.445300Z"
    }
   },
   "outputs": [],
   "source": [
    "data[['Emp_Length']]=data[['Emp_Length']].applymap(employment)"
   ]
  },
  {
   "cell_type": "code",
   "execution_count": 20,
   "metadata": {
    "ExecuteTime": {
     "end_time": "2021-02-17T07:29:17.841365Z",
     "start_time": "2021-02-17T07:29:17.829259Z"
    }
   },
   "outputs": [
    {
     "data": {
      "text/plain": [
       "Current               7769\n",
       "Fully Paid             921\n",
       "Charged Off            209\n",
       "Late (31-120 days)     140\n",
       "In Grace Period         46\n",
       "Late (16-30 days)       19\n",
       "Default                 15\n",
       "Name: Loan_Status, dtype: int64"
      ]
     },
     "execution_count": 20,
     "metadata": {},
     "output_type": "execute_result"
    }
   ],
   "source": [
    "data.Loan_Status.value_counts()"
   ]
  },
  {
   "cell_type": "code",
   "execution_count": 21,
   "metadata": {
    "ExecuteTime": {
     "end_time": "2021-02-17T07:29:21.706473Z",
     "start_time": "2021-02-17T07:29:21.700516Z"
    }
   },
   "outputs": [],
   "source": [
    "#data=data[data['Loan_Status'].isin(['Charged Off','Fully Paid','Default','Late (31-120 days)','Late (16-30 days)'])]"
   ]
  },
  {
   "cell_type": "code",
   "execution_count": 22,
   "metadata": {
    "ExecuteTime": {
     "end_time": "2021-02-17T07:29:22.310637Z",
     "start_time": "2021-02-17T07:29:22.286038Z"
    }
   },
   "outputs": [
    {
     "name": "stdout",
     "output_type": "stream",
     "text": [
      "<class 'pandas.core.frame.DataFrame'>\n",
      "Int64Index: 9119 entries, 571203 to 9664845\n",
      "Data columns (total 22 columns):\n",
      " #   Column                  Non-Null Count  Dtype  \n",
      "---  ------                  --------------  -----  \n",
      " 0   Loan_Amnt               9119 non-null   int64  \n",
      " 1   Funded_Amnt             9119 non-null   int64  \n",
      " 2   Term                    9119 non-null   object \n",
      " 3   Int_Rate                9119 non-null   float64\n",
      " 4   Installment             9119 non-null   float64\n",
      " 5   Emp_Length              9119 non-null   int64  \n",
      " 6   Home_Ownership          9119 non-null   object \n",
      " 7   Annual_Inc              9119 non-null   float64\n",
      " 8   Loan_Status             9119 non-null   object \n",
      " 9   Purpose                 9119 non-null   object \n",
      " 10  Addr_State              9119 non-null   object \n",
      " 11  Dti                     9119 non-null   float64\n",
      " 12  Delinq_2Yrs             9119 non-null   float64\n",
      " 13  Earliest_Cr_Line        9119 non-null   int64  \n",
      " 14  Mths_Since_Last_Delinq  9119 non-null   float64\n",
      " 15  Open_Acc                9119 non-null   float64\n",
      " 16  Revol_Bal               9119 non-null   float64\n",
      " 17  Total_Acc               9119 non-null   float64\n",
      " 18  Out_Prncp               9119 non-null   float64\n",
      " 19  Total_Pymnt             9119 non-null   float64\n",
      " 20  Total_Rec_Prncp         9119 non-null   float64\n",
      " 21  Total_Rec_Int           9119 non-null   float64\n",
      "dtypes: float64(13), int64(4), object(5)\n",
      "memory usage: 1.6+ MB\n"
     ]
    }
   ],
   "source": [
    "data.info()"
   ]
  },
  {
   "cell_type": "code",
   "execution_count": 23,
   "metadata": {
    "ExecuteTime": {
     "end_time": "2021-02-17T07:29:25.683598Z",
     "start_time": "2021-02-17T07:29:25.677555Z"
    }
   },
   "outputs": [],
   "source": [
    "def status(x):\n",
    "    if x=='Fully Paid':\n",
    "        x=1\n",
    "    elif x=='Current':\n",
    "        x=1\n",
    "    else:\n",
    "        x=0 \n",
    "    return x"
   ]
  },
  {
   "cell_type": "code",
   "execution_count": 24,
   "metadata": {
    "ExecuteTime": {
     "end_time": "2021-02-17T07:29:28.697889Z",
     "start_time": "2021-02-17T07:29:28.676925Z"
    }
   },
   "outputs": [],
   "source": [
    "data[['Loan_Status']]=data[['Loan_Status']].applymap(status)"
   ]
  },
  {
   "cell_type": "code",
   "execution_count": 25,
   "metadata": {
    "ExecuteTime": {
     "end_time": "2021-02-17T07:29:30.850499Z",
     "start_time": "2021-02-17T07:29:30.837177Z"
    }
   },
   "outputs": [
    {
     "data": {
      "text/plain": [
       "1    8690\n",
       "0     429\n",
       "Name: Loan_Status, dtype: int64"
      ]
     },
     "execution_count": 25,
     "metadata": {},
     "output_type": "execute_result"
    }
   ],
   "source": [
    "data.Loan_Status.value_counts()"
   ]
  },
  {
   "cell_type": "code",
   "execution_count": 26,
   "metadata": {
    "ExecuteTime": {
     "end_time": "2021-02-17T07:29:34.056256Z",
     "start_time": "2021-02-17T07:29:34.044778Z"
    }
   },
   "outputs": [],
   "source": [
    "#drop the columns with little association with the Loan_Status.\n",
    "#'Out_Prncp','Total_Pymnt','Total_Rec_Prncp','Total_Rec_Int'\n",
    "data.drop(['Loan_Amnt'],axis=1,inplace=True)"
   ]
  },
  {
   "cell_type": "code",
   "execution_count": 27,
   "metadata": {
    "ExecuteTime": {
     "end_time": "2021-02-17T07:29:35.049295Z",
     "start_time": "2021-02-17T07:29:35.043370Z"
    }
   },
   "outputs": [],
   "source": [
    "data.columns=['Loan_Amount','Term','Interest_Rate','Installment','Employment_Length','Home_Ownership','Annual_Income','Loan_Status',\n",
    "             'Purpose','State','DTI','Deliquency_in_2years','Credit_Line_Year','Months_since_Last_Deliquency','Open_Account','Revolving_Balance','Total_Account',\n",
    "             'Out_Principal','Total_Payment','Total_Paid_Principal','Total_Paid_Interest']"
   ]
  },
  {
   "cell_type": "code",
   "execution_count": 28,
   "metadata": {
    "ExecuteTime": {
     "end_time": "2021-02-17T07:29:35.810831Z",
     "start_time": "2021-02-17T07:29:35.797140Z"
    }
   },
   "outputs": [],
   "source": [
    "data[['Deliquency_in_2years','Open_Account','Total_Account']]=data[['Deliquency_in_2years','Open_Account','Total_Account']].astype(np.int64)"
   ]
  },
  {
   "cell_type": "code",
   "execution_count": 29,
   "metadata": {
    "ExecuteTime": {
     "end_time": "2021-02-17T07:29:36.526999Z",
     "start_time": "2021-02-17T07:29:36.430737Z"
    }
   },
   "outputs": [
    {
     "data": {
      "text/html": [
       "<div>\n",
       "<style scoped>\n",
       "    .dataframe tbody tr th:only-of-type {\n",
       "        vertical-align: middle;\n",
       "    }\n",
       "\n",
       "    .dataframe tbody tr th {\n",
       "        vertical-align: top;\n",
       "    }\n",
       "\n",
       "    .dataframe thead th {\n",
       "        text-align: right;\n",
       "    }\n",
       "</style>\n",
       "<table border=\"1\" class=\"dataframe\">\n",
       "  <thead>\n",
       "    <tr style=\"text-align: right;\">\n",
       "      <th></th>\n",
       "      <th>Loan_Amount</th>\n",
       "      <th>Term</th>\n",
       "      <th>Interest_Rate</th>\n",
       "      <th>Installment</th>\n",
       "      <th>Employment_Length</th>\n",
       "      <th>Home_Ownership</th>\n",
       "      <th>Annual_Income</th>\n",
       "      <th>Loan_Status</th>\n",
       "      <th>Purpose</th>\n",
       "      <th>State</th>\n",
       "      <th>...</th>\n",
       "      <th>Deliquency_in_2years</th>\n",
       "      <th>Credit_Line_Year</th>\n",
       "      <th>Months_since_Last_Deliquency</th>\n",
       "      <th>Open_Account</th>\n",
       "      <th>Revolving_Balance</th>\n",
       "      <th>Total_Account</th>\n",
       "      <th>Out_Principal</th>\n",
       "      <th>Total_Payment</th>\n",
       "      <th>Total_Paid_Principal</th>\n",
       "      <th>Total_Paid_Interest</th>\n",
       "    </tr>\n",
       "    <tr>\n",
       "      <th>Id</th>\n",
       "      <th></th>\n",
       "      <th></th>\n",
       "      <th></th>\n",
       "      <th></th>\n",
       "      <th></th>\n",
       "      <th></th>\n",
       "      <th></th>\n",
       "      <th></th>\n",
       "      <th></th>\n",
       "      <th></th>\n",
       "      <th></th>\n",
       "      <th></th>\n",
       "      <th></th>\n",
       "      <th></th>\n",
       "      <th></th>\n",
       "      <th></th>\n",
       "      <th></th>\n",
       "      <th></th>\n",
       "      <th></th>\n",
       "      <th></th>\n",
       "      <th></th>\n",
       "    </tr>\n",
       "  </thead>\n",
       "  <tbody>\n",
       "    <tr>\n",
       "      <th>571203</th>\n",
       "      <td>18000</td>\n",
       "      <td>60 months</td>\n",
       "      <td>10.16</td>\n",
       "      <td>383.87</td>\n",
       "      <td>10</td>\n",
       "      <td>MORTGAGE</td>\n",
       "      <td>72804.0</td>\n",
       "      <td>1</td>\n",
       "      <td>credit_card</td>\n",
       "      <td>MA</td>\n",
       "      <td>...</td>\n",
       "      <td>0</td>\n",
       "      <td>23</td>\n",
       "      <td>47.61</td>\n",
       "      <td>21</td>\n",
       "      <td>8751.0</td>\n",
       "      <td>49</td>\n",
       "      <td>13263.18</td>\n",
       "      <td>7273.77</td>\n",
       "      <td>4736.82</td>\n",
       "      <td>2536.95</td>\n",
       "    </tr>\n",
       "    <tr>\n",
       "      <th>641849</th>\n",
       "      <td>13200</td>\n",
       "      <td>36 months</td>\n",
       "      <td>18.49</td>\n",
       "      <td>480.47</td>\n",
       "      <td>2</td>\n",
       "      <td>RENT</td>\n",
       "      <td>110000.0</td>\n",
       "      <td>1</td>\n",
       "      <td>debt_consolidation</td>\n",
       "      <td>IL</td>\n",
       "      <td>...</td>\n",
       "      <td>0</td>\n",
       "      <td>18</td>\n",
       "      <td>29.00</td>\n",
       "      <td>16</td>\n",
       "      <td>16062.0</td>\n",
       "      <td>36</td>\n",
       "      <td>10546.93</td>\n",
       "      <td>4324.23</td>\n",
       "      <td>2653.07</td>\n",
       "      <td>1671.16</td>\n",
       "    </tr>\n",
       "    <tr>\n",
       "      <th>694891</th>\n",
       "      <td>15675</td>\n",
       "      <td>36 months</td>\n",
       "      <td>8.90</td>\n",
       "      <td>497.74</td>\n",
       "      <td>10</td>\n",
       "      <td>MORTGAGE</td>\n",
       "      <td>100000.0</td>\n",
       "      <td>1</td>\n",
       "      <td>small_business</td>\n",
       "      <td>WA</td>\n",
       "      <td>...</td>\n",
       "      <td>0</td>\n",
       "      <td>24</td>\n",
       "      <td>47.61</td>\n",
       "      <td>16</td>\n",
       "      <td>20650.0</td>\n",
       "      <td>45</td>\n",
       "      <td>15294.25</td>\n",
       "      <td>496.78</td>\n",
       "      <td>380.75</td>\n",
       "      <td>116.03</td>\n",
       "    </tr>\n",
       "    <tr>\n",
       "      <th>734736</th>\n",
       "      <td>21600</td>\n",
       "      <td>36 months</td>\n",
       "      <td>7.90</td>\n",
       "      <td>675.87</td>\n",
       "      <td>10</td>\n",
       "      <td>MORTGAGE</td>\n",
       "      <td>95000.0</td>\n",
       "      <td>1</td>\n",
       "      <td>house</td>\n",
       "      <td>WI</td>\n",
       "      <td>...</td>\n",
       "      <td>0</td>\n",
       "      <td>19</td>\n",
       "      <td>47.61</td>\n",
       "      <td>9</td>\n",
       "      <td>416.0</td>\n",
       "      <td>24</td>\n",
       "      <td>0.00</td>\n",
       "      <td>23521.69</td>\n",
       "      <td>21600.00</td>\n",
       "      <td>1921.69</td>\n",
       "    </tr>\n",
       "    <tr>\n",
       "      <th>784712</th>\n",
       "      <td>16500</td>\n",
       "      <td>60 months</td>\n",
       "      <td>7.90</td>\n",
       "      <td>333.78</td>\n",
       "      <td>2</td>\n",
       "      <td>MORTGAGE</td>\n",
       "      <td>42000.0</td>\n",
       "      <td>0</td>\n",
       "      <td>small_business</td>\n",
       "      <td>NY</td>\n",
       "      <td>...</td>\n",
       "      <td>0</td>\n",
       "      <td>25</td>\n",
       "      <td>47.61</td>\n",
       "      <td>9</td>\n",
       "      <td>2229.0</td>\n",
       "      <td>17</td>\n",
       "      <td>12966.64</td>\n",
       "      <td>5000.85</td>\n",
       "      <td>3533.36</td>\n",
       "      <td>1467.49</td>\n",
       "    </tr>\n",
       "    <tr>\n",
       "      <th>...</th>\n",
       "      <td>...</td>\n",
       "      <td>...</td>\n",
       "      <td>...</td>\n",
       "      <td>...</td>\n",
       "      <td>...</td>\n",
       "      <td>...</td>\n",
       "      <td>...</td>\n",
       "      <td>...</td>\n",
       "      <td>...</td>\n",
       "      <td>...</td>\n",
       "      <td>...</td>\n",
       "      <td>...</td>\n",
       "      <td>...</td>\n",
       "      <td>...</td>\n",
       "      <td>...</td>\n",
       "      <td>...</td>\n",
       "      <td>...</td>\n",
       "      <td>...</td>\n",
       "      <td>...</td>\n",
       "      <td>...</td>\n",
       "      <td>...</td>\n",
       "    </tr>\n",
       "    <tr>\n",
       "      <th>8968302</th>\n",
       "      <td>16000</td>\n",
       "      <td>60 months</td>\n",
       "      <td>20.20</td>\n",
       "      <td>425.69</td>\n",
       "      <td>8</td>\n",
       "      <td>MORTGAGE</td>\n",
       "      <td>126000.0</td>\n",
       "      <td>1</td>\n",
       "      <td>home_improvement</td>\n",
       "      <td>WA</td>\n",
       "      <td>...</td>\n",
       "      <td>8</td>\n",
       "      <td>18</td>\n",
       "      <td>17.00</td>\n",
       "      <td>10</td>\n",
       "      <td>19487.0</td>\n",
       "      <td>31</td>\n",
       "      <td>15523.08</td>\n",
       "      <td>1276.83</td>\n",
       "      <td>476.92</td>\n",
       "      <td>799.91</td>\n",
       "    </tr>\n",
       "    <tr>\n",
       "      <th>2085874</th>\n",
       "      <td>4800</td>\n",
       "      <td>36 months</td>\n",
       "      <td>16.29</td>\n",
       "      <td>169.45</td>\n",
       "      <td>10</td>\n",
       "      <td>MORTGAGE</td>\n",
       "      <td>135000.0</td>\n",
       "      <td>1</td>\n",
       "      <td>home_improvement</td>\n",
       "      <td>GA</td>\n",
       "      <td>...</td>\n",
       "      <td>9</td>\n",
       "      <td>24</td>\n",
       "      <td>7.00</td>\n",
       "      <td>6</td>\n",
       "      <td>9308.0</td>\n",
       "      <td>44</td>\n",
       "      <td>3080.94</td>\n",
       "      <td>2537.25</td>\n",
       "      <td>1719.06</td>\n",
       "      <td>818.19</td>\n",
       "    </tr>\n",
       "    <tr>\n",
       "      <th>6296667</th>\n",
       "      <td>35000</td>\n",
       "      <td>60 months</td>\n",
       "      <td>24.50</td>\n",
       "      <td>1017.07</td>\n",
       "      <td>10</td>\n",
       "      <td>MORTGAGE</td>\n",
       "      <td>150000.0</td>\n",
       "      <td>1</td>\n",
       "      <td>credit_card</td>\n",
       "      <td>GA</td>\n",
       "      <td>...</td>\n",
       "      <td>9</td>\n",
       "      <td>29</td>\n",
       "      <td>3.00</td>\n",
       "      <td>20</td>\n",
       "      <td>32925.0</td>\n",
       "      <td>39</td>\n",
       "      <td>32752.18</td>\n",
       "      <td>7107.52</td>\n",
       "      <td>2247.82</td>\n",
       "      <td>4859.70</td>\n",
       "    </tr>\n",
       "    <tr>\n",
       "      <th>3929357</th>\n",
       "      <td>12000</td>\n",
       "      <td>36 months</td>\n",
       "      <td>12.12</td>\n",
       "      <td>399.26</td>\n",
       "      <td>7</td>\n",
       "      <td>MORTGAGE</td>\n",
       "      <td>41600.0</td>\n",
       "      <td>1</td>\n",
       "      <td>credit_card</td>\n",
       "      <td>TN</td>\n",
       "      <td>...</td>\n",
       "      <td>11</td>\n",
       "      <td>23</td>\n",
       "      <td>17.00</td>\n",
       "      <td>17</td>\n",
       "      <td>15663.0</td>\n",
       "      <td>34</td>\n",
       "      <td>9089.56</td>\n",
       "      <td>3992.60</td>\n",
       "      <td>2910.44</td>\n",
       "      <td>1082.16</td>\n",
       "    </tr>\n",
       "    <tr>\n",
       "      <th>9664845</th>\n",
       "      <td>9600</td>\n",
       "      <td>36 months</td>\n",
       "      <td>14.47</td>\n",
       "      <td>330.31</td>\n",
       "      <td>5</td>\n",
       "      <td>RENT</td>\n",
       "      <td>65000.0</td>\n",
       "      <td>1</td>\n",
       "      <td>debt_consolidation</td>\n",
       "      <td>NC</td>\n",
       "      <td>...</td>\n",
       "      <td>11</td>\n",
       "      <td>20</td>\n",
       "      <td>22.00</td>\n",
       "      <td>15</td>\n",
       "      <td>21550.0</td>\n",
       "      <td>29</td>\n",
       "      <td>9168.34</td>\n",
       "      <td>660.58</td>\n",
       "      <td>431.66</td>\n",
       "      <td>228.92</td>\n",
       "    </tr>\n",
       "  </tbody>\n",
       "</table>\n",
       "<p>9119 rows × 21 columns</p>\n",
       "</div>"
      ],
      "text/plain": [
       "         Loan_Amount        Term  Interest_Rate  Installment  \\\n",
       "Id                                                             \n",
       "571203         18000   60 months          10.16       383.87   \n",
       "641849         13200   36 months          18.49       480.47   \n",
       "694891         15675   36 months           8.90       497.74   \n",
       "734736         21600   36 months           7.90       675.87   \n",
       "784712         16500   60 months           7.90       333.78   \n",
       "...              ...         ...            ...          ...   \n",
       "8968302        16000   60 months          20.20       425.69   \n",
       "2085874         4800   36 months          16.29       169.45   \n",
       "6296667        35000   60 months          24.50      1017.07   \n",
       "3929357        12000   36 months          12.12       399.26   \n",
       "9664845         9600   36 months          14.47       330.31   \n",
       "\n",
       "         Employment_Length Home_Ownership  Annual_Income  Loan_Status  \\\n",
       "Id                                                                      \n",
       "571203                  10       MORTGAGE        72804.0            1   \n",
       "641849                   2           RENT       110000.0            1   \n",
       "694891                  10       MORTGAGE       100000.0            1   \n",
       "734736                  10       MORTGAGE        95000.0            1   \n",
       "784712                   2       MORTGAGE        42000.0            0   \n",
       "...                    ...            ...            ...          ...   \n",
       "8968302                  8       MORTGAGE       126000.0            1   \n",
       "2085874                 10       MORTGAGE       135000.0            1   \n",
       "6296667                 10       MORTGAGE       150000.0            1   \n",
       "3929357                  7       MORTGAGE        41600.0            1   \n",
       "9664845                  5           RENT        65000.0            1   \n",
       "\n",
       "                    Purpose State  ...  Deliquency_in_2years  \\\n",
       "Id                                 ...                         \n",
       "571203          credit_card    MA  ...                     0   \n",
       "641849   debt_consolidation    IL  ...                     0   \n",
       "694891       small_business    WA  ...                     0   \n",
       "734736                house    WI  ...                     0   \n",
       "784712       small_business    NY  ...                     0   \n",
       "...                     ...   ...  ...                   ...   \n",
       "8968302    home_improvement    WA  ...                     8   \n",
       "2085874    home_improvement    GA  ...                     9   \n",
       "6296667         credit_card    GA  ...                     9   \n",
       "3929357         credit_card    TN  ...                    11   \n",
       "9664845  debt_consolidation    NC  ...                    11   \n",
       "\n",
       "         Credit_Line_Year  Months_since_Last_Deliquency  Open_Account  \\\n",
       "Id                                                                      \n",
       "571203                 23                         47.61            21   \n",
       "641849                 18                         29.00            16   \n",
       "694891                 24                         47.61            16   \n",
       "734736                 19                         47.61             9   \n",
       "784712                 25                         47.61             9   \n",
       "...                   ...                           ...           ...   \n",
       "8968302                18                         17.00            10   \n",
       "2085874                24                          7.00             6   \n",
       "6296667                29                          3.00            20   \n",
       "3929357                23                         17.00            17   \n",
       "9664845                20                         22.00            15   \n",
       "\n",
       "         Revolving_Balance  Total_Account  Out_Principal  Total_Payment  \\\n",
       "Id                                                                        \n",
       "571203              8751.0             49       13263.18        7273.77   \n",
       "641849             16062.0             36       10546.93        4324.23   \n",
       "694891             20650.0             45       15294.25         496.78   \n",
       "734736               416.0             24           0.00       23521.69   \n",
       "784712              2229.0             17       12966.64        5000.85   \n",
       "...                    ...            ...            ...            ...   \n",
       "8968302            19487.0             31       15523.08        1276.83   \n",
       "2085874             9308.0             44        3080.94        2537.25   \n",
       "6296667            32925.0             39       32752.18        7107.52   \n",
       "3929357            15663.0             34        9089.56        3992.60   \n",
       "9664845            21550.0             29        9168.34         660.58   \n",
       "\n",
       "         Total_Paid_Principal  Total_Paid_Interest  \n",
       "Id                                                  \n",
       "571203                4736.82              2536.95  \n",
       "641849                2653.07              1671.16  \n",
       "694891                 380.75               116.03  \n",
       "734736               21600.00              1921.69  \n",
       "784712                3533.36              1467.49  \n",
       "...                       ...                  ...  \n",
       "8968302                476.92               799.91  \n",
       "2085874               1719.06               818.19  \n",
       "6296667               2247.82              4859.70  \n",
       "3929357               2910.44              1082.16  \n",
       "9664845                431.66               228.92  \n",
       "\n",
       "[9119 rows x 21 columns]"
      ]
     },
     "execution_count": 29,
     "metadata": {},
     "output_type": "execute_result"
    }
   ],
   "source": [
    "data"
   ]
  },
  {
   "cell_type": "code",
   "execution_count": 30,
   "metadata": {
    "ExecuteTime": {
     "end_time": "2021-02-17T07:29:44.886334Z",
     "start_time": "2021-02-17T07:29:44.872321Z"
    }
   },
   "outputs": [],
   "source": [
    "data=data[data.Term==' 60 months'].drop('Term',axis=1)"
   ]
  },
  {
   "cell_type": "code",
   "execution_count": 31,
   "metadata": {
    "ExecuteTime": {
     "end_time": "2021-02-17T07:29:46.072061Z",
     "start_time": "2021-02-17T07:29:46.009345Z"
    }
   },
   "outputs": [
    {
     "data": {
      "text/html": [
       "<div>\n",
       "<style scoped>\n",
       "    .dataframe tbody tr th:only-of-type {\n",
       "        vertical-align: middle;\n",
       "    }\n",
       "\n",
       "    .dataframe tbody tr th {\n",
       "        vertical-align: top;\n",
       "    }\n",
       "\n",
       "    .dataframe thead th {\n",
       "        text-align: right;\n",
       "    }\n",
       "</style>\n",
       "<table border=\"1\" class=\"dataframe\">\n",
       "  <thead>\n",
       "    <tr style=\"text-align: right;\">\n",
       "      <th></th>\n",
       "      <th>Loan_Amount</th>\n",
       "      <th>Interest_Rate</th>\n",
       "      <th>Installment</th>\n",
       "      <th>Employment_Length</th>\n",
       "      <th>Home_Ownership</th>\n",
       "      <th>Annual_Income</th>\n",
       "      <th>Loan_Status</th>\n",
       "      <th>Purpose</th>\n",
       "      <th>State</th>\n",
       "      <th>DTI</th>\n",
       "      <th>Deliquency_in_2years</th>\n",
       "      <th>Credit_Line_Year</th>\n",
       "      <th>Months_since_Last_Deliquency</th>\n",
       "      <th>Open_Account</th>\n",
       "      <th>Revolving_Balance</th>\n",
       "      <th>Total_Account</th>\n",
       "      <th>Out_Principal</th>\n",
       "      <th>Total_Payment</th>\n",
       "      <th>Total_Paid_Principal</th>\n",
       "      <th>Total_Paid_Interest</th>\n",
       "    </tr>\n",
       "    <tr>\n",
       "      <th>Id</th>\n",
       "      <th></th>\n",
       "      <th></th>\n",
       "      <th></th>\n",
       "      <th></th>\n",
       "      <th></th>\n",
       "      <th></th>\n",
       "      <th></th>\n",
       "      <th></th>\n",
       "      <th></th>\n",
       "      <th></th>\n",
       "      <th></th>\n",
       "      <th></th>\n",
       "      <th></th>\n",
       "      <th></th>\n",
       "      <th></th>\n",
       "      <th></th>\n",
       "      <th></th>\n",
       "      <th></th>\n",
       "      <th></th>\n",
       "      <th></th>\n",
       "    </tr>\n",
       "  </thead>\n",
       "  <tbody>\n",
       "    <tr>\n",
       "      <th>571203</th>\n",
       "      <td>18000</td>\n",
       "      <td>10.16</td>\n",
       "      <td>383.87</td>\n",
       "      <td>10</td>\n",
       "      <td>MORTGAGE</td>\n",
       "      <td>72804.0</td>\n",
       "      <td>1</td>\n",
       "      <td>credit_card</td>\n",
       "      <td>MA</td>\n",
       "      <td>16.73</td>\n",
       "      <td>0</td>\n",
       "      <td>23</td>\n",
       "      <td>47.61</td>\n",
       "      <td>21</td>\n",
       "      <td>8751.0</td>\n",
       "      <td>49</td>\n",
       "      <td>13263.18</td>\n",
       "      <td>7273.77</td>\n",
       "      <td>4736.82</td>\n",
       "      <td>2536.95</td>\n",
       "    </tr>\n",
       "    <tr>\n",
       "      <th>784712</th>\n",
       "      <td>16500</td>\n",
       "      <td>7.90</td>\n",
       "      <td>333.78</td>\n",
       "      <td>2</td>\n",
       "      <td>MORTGAGE</td>\n",
       "      <td>42000.0</td>\n",
       "      <td>0</td>\n",
       "      <td>small_business</td>\n",
       "      <td>NY</td>\n",
       "      <td>10.43</td>\n",
       "      <td>0</td>\n",
       "      <td>25</td>\n",
       "      <td>47.61</td>\n",
       "      <td>9</td>\n",
       "      <td>2229.0</td>\n",
       "      <td>17</td>\n",
       "      <td>12966.64</td>\n",
       "      <td>5000.85</td>\n",
       "      <td>3533.36</td>\n",
       "      <td>1467.49</td>\n",
       "    </tr>\n",
       "    <tr>\n",
       "      <th>1058291</th>\n",
       "      <td>7775</td>\n",
       "      <td>15.27</td>\n",
       "      <td>186.08</td>\n",
       "      <td>7</td>\n",
       "      <td>RENT</td>\n",
       "      <td>50000.0</td>\n",
       "      <td>1</td>\n",
       "      <td>credit_card</td>\n",
       "      <td>VA</td>\n",
       "      <td>5.50</td>\n",
       "      <td>0</td>\n",
       "      <td>15</td>\n",
       "      <td>47.61</td>\n",
       "      <td>13</td>\n",
       "      <td>7008.0</td>\n",
       "      <td>25</td>\n",
       "      <td>5125.40</td>\n",
       "      <td>4808.96</td>\n",
       "      <td>2649.60</td>\n",
       "      <td>2159.36</td>\n",
       "    </tr>\n",
       "    <tr>\n",
       "      <th>1059509</th>\n",
       "      <td>20000</td>\n",
       "      <td>17.27</td>\n",
       "      <td>499.96</td>\n",
       "      <td>10</td>\n",
       "      <td>MORTGAGE</td>\n",
       "      <td>80000.0</td>\n",
       "      <td>1</td>\n",
       "      <td>debt_consolidation</td>\n",
       "      <td>VA</td>\n",
       "      <td>15.06</td>\n",
       "      <td>0</td>\n",
       "      <td>17</td>\n",
       "      <td>47.61</td>\n",
       "      <td>11</td>\n",
       "      <td>21592.0</td>\n",
       "      <td>30</td>\n",
       "      <td>13404.04</td>\n",
       "      <td>12928.21</td>\n",
       "      <td>6595.96</td>\n",
       "      <td>6332.25</td>\n",
       "    </tr>\n",
       "    <tr>\n",
       "      <th>1061580</th>\n",
       "      <td>27575</td>\n",
       "      <td>12.69</td>\n",
       "      <td>623.05</td>\n",
       "      <td>1</td>\n",
       "      <td>RENT</td>\n",
       "      <td>91200.0</td>\n",
       "      <td>0</td>\n",
       "      <td>credit_card</td>\n",
       "      <td>CA</td>\n",
       "      <td>27.69</td>\n",
       "      <td>0</td>\n",
       "      <td>23</td>\n",
       "      <td>47.61</td>\n",
       "      <td>13</td>\n",
       "      <td>45053.0</td>\n",
       "      <td>29</td>\n",
       "      <td>0.00</td>\n",
       "      <td>1866.87</td>\n",
       "      <td>1003.66</td>\n",
       "      <td>863.21</td>\n",
       "    </tr>\n",
       "    <tr>\n",
       "      <th>...</th>\n",
       "      <td>...</td>\n",
       "      <td>...</td>\n",
       "      <td>...</td>\n",
       "      <td>...</td>\n",
       "      <td>...</td>\n",
       "      <td>...</td>\n",
       "      <td>...</td>\n",
       "      <td>...</td>\n",
       "      <td>...</td>\n",
       "      <td>...</td>\n",
       "      <td>...</td>\n",
       "      <td>...</td>\n",
       "      <td>...</td>\n",
       "      <td>...</td>\n",
       "      <td>...</td>\n",
       "      <td>...</td>\n",
       "      <td>...</td>\n",
       "      <td>...</td>\n",
       "      <td>...</td>\n",
       "      <td>...</td>\n",
       "    </tr>\n",
       "    <tr>\n",
       "      <th>7097447</th>\n",
       "      <td>35000</td>\n",
       "      <td>25.89</td>\n",
       "      <td>1045.64</td>\n",
       "      <td>10</td>\n",
       "      <td>OWN</td>\n",
       "      <td>95000.0</td>\n",
       "      <td>1</td>\n",
       "      <td>debt_consolidation</td>\n",
       "      <td>NY</td>\n",
       "      <td>17.08</td>\n",
       "      <td>6</td>\n",
       "      <td>23</td>\n",
       "      <td>9.00</td>\n",
       "      <td>8</td>\n",
       "      <td>5201.0</td>\n",
       "      <td>37</td>\n",
       "      <td>33486.03</td>\n",
       "      <td>5219.05</td>\n",
       "      <td>1513.97</td>\n",
       "      <td>3705.08</td>\n",
       "    </tr>\n",
       "    <tr>\n",
       "      <th>3674855</th>\n",
       "      <td>25475</td>\n",
       "      <td>23.28</td>\n",
       "      <td>722.26</td>\n",
       "      <td>10</td>\n",
       "      <td>RENT</td>\n",
       "      <td>99877.0</td>\n",
       "      <td>1</td>\n",
       "      <td>debt_consolidation</td>\n",
       "      <td>NC</td>\n",
       "      <td>15.54</td>\n",
       "      <td>8</td>\n",
       "      <td>17</td>\n",
       "      <td>13.00</td>\n",
       "      <td>10</td>\n",
       "      <td>20045.0</td>\n",
       "      <td>27</td>\n",
       "      <td>0.00</td>\n",
       "      <td>28832.21</td>\n",
       "      <td>25475.00</td>\n",
       "      <td>3357.21</td>\n",
       "    </tr>\n",
       "    <tr>\n",
       "      <th>5164959</th>\n",
       "      <td>32875</td>\n",
       "      <td>23.28</td>\n",
       "      <td>932.06</td>\n",
       "      <td>10</td>\n",
       "      <td>MORTGAGE</td>\n",
       "      <td>74000.0</td>\n",
       "      <td>1</td>\n",
       "      <td>debt_consolidation</td>\n",
       "      <td>PA</td>\n",
       "      <td>14.43</td>\n",
       "      <td>8</td>\n",
       "      <td>19</td>\n",
       "      <td>21.00</td>\n",
       "      <td>9</td>\n",
       "      <td>6961.0</td>\n",
       "      <td>27</td>\n",
       "      <td>30018.82</td>\n",
       "      <td>8366.58</td>\n",
       "      <td>2856.18</td>\n",
       "      <td>5510.40</td>\n",
       "    </tr>\n",
       "    <tr>\n",
       "      <th>8968302</th>\n",
       "      <td>16000</td>\n",
       "      <td>20.20</td>\n",
       "      <td>425.69</td>\n",
       "      <td>8</td>\n",
       "      <td>MORTGAGE</td>\n",
       "      <td>126000.0</td>\n",
       "      <td>1</td>\n",
       "      <td>home_improvement</td>\n",
       "      <td>WA</td>\n",
       "      <td>18.97</td>\n",
       "      <td>8</td>\n",
       "      <td>18</td>\n",
       "      <td>17.00</td>\n",
       "      <td>10</td>\n",
       "      <td>19487.0</td>\n",
       "      <td>31</td>\n",
       "      <td>15523.08</td>\n",
       "      <td>1276.83</td>\n",
       "      <td>476.92</td>\n",
       "      <td>799.91</td>\n",
       "    </tr>\n",
       "    <tr>\n",
       "      <th>6296667</th>\n",
       "      <td>35000</td>\n",
       "      <td>24.50</td>\n",
       "      <td>1017.07</td>\n",
       "      <td>10</td>\n",
       "      <td>MORTGAGE</td>\n",
       "      <td>150000.0</td>\n",
       "      <td>1</td>\n",
       "      <td>credit_card</td>\n",
       "      <td>GA</td>\n",
       "      <td>26.14</td>\n",
       "      <td>9</td>\n",
       "      <td>29</td>\n",
       "      <td>3.00</td>\n",
       "      <td>20</td>\n",
       "      <td>32925.0</td>\n",
       "      <td>39</td>\n",
       "      <td>32752.18</td>\n",
       "      <td>7107.52</td>\n",
       "      <td>2247.82</td>\n",
       "      <td>4859.70</td>\n",
       "    </tr>\n",
       "  </tbody>\n",
       "</table>\n",
       "<p>2194 rows × 20 columns</p>\n",
       "</div>"
      ],
      "text/plain": [
       "         Loan_Amount  Interest_Rate  Installment  Employment_Length  \\\n",
       "Id                                                                    \n",
       "571203         18000          10.16       383.87                 10   \n",
       "784712         16500           7.90       333.78                  2   \n",
       "1058291         7775          15.27       186.08                  7   \n",
       "1059509        20000          17.27       499.96                 10   \n",
       "1061580        27575          12.69       623.05                  1   \n",
       "...              ...            ...          ...                ...   \n",
       "7097447        35000          25.89      1045.64                 10   \n",
       "3674855        25475          23.28       722.26                 10   \n",
       "5164959        32875          23.28       932.06                 10   \n",
       "8968302        16000          20.20       425.69                  8   \n",
       "6296667        35000          24.50      1017.07                 10   \n",
       "\n",
       "        Home_Ownership  Annual_Income  Loan_Status             Purpose State  \\\n",
       "Id                                                                             \n",
       "571203        MORTGAGE        72804.0            1         credit_card    MA   \n",
       "784712        MORTGAGE        42000.0            0      small_business    NY   \n",
       "1058291           RENT        50000.0            1         credit_card    VA   \n",
       "1059509       MORTGAGE        80000.0            1  debt_consolidation    VA   \n",
       "1061580           RENT        91200.0            0         credit_card    CA   \n",
       "...                ...            ...          ...                 ...   ...   \n",
       "7097447            OWN        95000.0            1  debt_consolidation    NY   \n",
       "3674855           RENT        99877.0            1  debt_consolidation    NC   \n",
       "5164959       MORTGAGE        74000.0            1  debt_consolidation    PA   \n",
       "8968302       MORTGAGE       126000.0            1    home_improvement    WA   \n",
       "6296667       MORTGAGE       150000.0            1         credit_card    GA   \n",
       "\n",
       "           DTI  Deliquency_in_2years  Credit_Line_Year  \\\n",
       "Id                                                       \n",
       "571203   16.73                     0                23   \n",
       "784712   10.43                     0                25   \n",
       "1058291   5.50                     0                15   \n",
       "1059509  15.06                     0                17   \n",
       "1061580  27.69                     0                23   \n",
       "...        ...                   ...               ...   \n",
       "7097447  17.08                     6                23   \n",
       "3674855  15.54                     8                17   \n",
       "5164959  14.43                     8                19   \n",
       "8968302  18.97                     8                18   \n",
       "6296667  26.14                     9                29   \n",
       "\n",
       "         Months_since_Last_Deliquency  Open_Account  Revolving_Balance  \\\n",
       "Id                                                                       \n",
       "571203                          47.61            21             8751.0   \n",
       "784712                          47.61             9             2229.0   \n",
       "1058291                         47.61            13             7008.0   \n",
       "1059509                         47.61            11            21592.0   \n",
       "1061580                         47.61            13            45053.0   \n",
       "...                               ...           ...                ...   \n",
       "7097447                          9.00             8             5201.0   \n",
       "3674855                         13.00            10            20045.0   \n",
       "5164959                         21.00             9             6961.0   \n",
       "8968302                         17.00            10            19487.0   \n",
       "6296667                          3.00            20            32925.0   \n",
       "\n",
       "         Total_Account  Out_Principal  Total_Payment  Total_Paid_Principal  \\\n",
       "Id                                                                           \n",
       "571203              49       13263.18        7273.77               4736.82   \n",
       "784712              17       12966.64        5000.85               3533.36   \n",
       "1058291             25        5125.40        4808.96               2649.60   \n",
       "1059509             30       13404.04       12928.21               6595.96   \n",
       "1061580             29           0.00        1866.87               1003.66   \n",
       "...                ...            ...            ...                   ...   \n",
       "7097447             37       33486.03        5219.05               1513.97   \n",
       "3674855             27           0.00       28832.21              25475.00   \n",
       "5164959             27       30018.82        8366.58               2856.18   \n",
       "8968302             31       15523.08        1276.83                476.92   \n",
       "6296667             39       32752.18        7107.52               2247.82   \n",
       "\n",
       "         Total_Paid_Interest  \n",
       "Id                            \n",
       "571203               2536.95  \n",
       "784712               1467.49  \n",
       "1058291              2159.36  \n",
       "1059509              6332.25  \n",
       "1061580               863.21  \n",
       "...                      ...  \n",
       "7097447              3705.08  \n",
       "3674855              3357.21  \n",
       "5164959              5510.40  \n",
       "8968302               799.91  \n",
       "6296667              4859.70  \n",
       "\n",
       "[2194 rows x 20 columns]"
      ]
     },
     "execution_count": 31,
     "metadata": {},
     "output_type": "execute_result"
    }
   ],
   "source": [
    "data"
   ]
  },
  {
   "cell_type": "code",
   "execution_count": 32,
   "metadata": {
    "ExecuteTime": {
     "end_time": "2021-02-17T07:29:49.836763Z",
     "start_time": "2021-02-17T07:29:49.814624Z"
    }
   },
   "outputs": [],
   "source": [
    "data=pd.get_dummies(data)"
   ]
  },
  {
   "cell_type": "code",
   "execution_count": 33,
   "metadata": {
    "ExecuteTime": {
     "end_time": "2021-02-17T07:29:57.859906Z",
     "start_time": "2021-02-17T07:29:57.799878Z"
    }
   },
   "outputs": [
    {
     "data": {
      "text/html": [
       "<div>\n",
       "<style scoped>\n",
       "    .dataframe tbody tr th:only-of-type {\n",
       "        vertical-align: middle;\n",
       "    }\n",
       "\n",
       "    .dataframe tbody tr th {\n",
       "        vertical-align: top;\n",
       "    }\n",
       "\n",
       "    .dataframe thead th {\n",
       "        text-align: right;\n",
       "    }\n",
       "</style>\n",
       "<table border=\"1\" class=\"dataframe\">\n",
       "  <thead>\n",
       "    <tr style=\"text-align: right;\">\n",
       "      <th></th>\n",
       "      <th>Loan_Amount</th>\n",
       "      <th>Interest_Rate</th>\n",
       "      <th>Installment</th>\n",
       "      <th>Employment_Length</th>\n",
       "      <th>Annual_Income</th>\n",
       "      <th>Loan_Status</th>\n",
       "      <th>DTI</th>\n",
       "      <th>Deliquency_in_2years</th>\n",
       "      <th>Credit_Line_Year</th>\n",
       "      <th>Months_since_Last_Deliquency</th>\n",
       "      <th>...</th>\n",
       "      <th>State_SD</th>\n",
       "      <th>State_TN</th>\n",
       "      <th>State_TX</th>\n",
       "      <th>State_UT</th>\n",
       "      <th>State_VA</th>\n",
       "      <th>State_VT</th>\n",
       "      <th>State_WA</th>\n",
       "      <th>State_WI</th>\n",
       "      <th>State_WV</th>\n",
       "      <th>State_WY</th>\n",
       "    </tr>\n",
       "    <tr>\n",
       "      <th>Id</th>\n",
       "      <th></th>\n",
       "      <th></th>\n",
       "      <th></th>\n",
       "      <th></th>\n",
       "      <th></th>\n",
       "      <th></th>\n",
       "      <th></th>\n",
       "      <th></th>\n",
       "      <th></th>\n",
       "      <th></th>\n",
       "      <th></th>\n",
       "      <th></th>\n",
       "      <th></th>\n",
       "      <th></th>\n",
       "      <th></th>\n",
       "      <th></th>\n",
       "      <th></th>\n",
       "      <th></th>\n",
       "      <th></th>\n",
       "      <th></th>\n",
       "      <th></th>\n",
       "    </tr>\n",
       "  </thead>\n",
       "  <tbody>\n",
       "    <tr>\n",
       "      <th>571203</th>\n",
       "      <td>18000</td>\n",
       "      <td>10.16</td>\n",
       "      <td>383.87</td>\n",
       "      <td>10</td>\n",
       "      <td>72804.0</td>\n",
       "      <td>1</td>\n",
       "      <td>16.73</td>\n",
       "      <td>0</td>\n",
       "      <td>23</td>\n",
       "      <td>47.61</td>\n",
       "      <td>...</td>\n",
       "      <td>0</td>\n",
       "      <td>0</td>\n",
       "      <td>0</td>\n",
       "      <td>0</td>\n",
       "      <td>0</td>\n",
       "      <td>0</td>\n",
       "      <td>0</td>\n",
       "      <td>0</td>\n",
       "      <td>0</td>\n",
       "      <td>0</td>\n",
       "    </tr>\n",
       "    <tr>\n",
       "      <th>784712</th>\n",
       "      <td>16500</td>\n",
       "      <td>7.90</td>\n",
       "      <td>333.78</td>\n",
       "      <td>2</td>\n",
       "      <td>42000.0</td>\n",
       "      <td>0</td>\n",
       "      <td>10.43</td>\n",
       "      <td>0</td>\n",
       "      <td>25</td>\n",
       "      <td>47.61</td>\n",
       "      <td>...</td>\n",
       "      <td>0</td>\n",
       "      <td>0</td>\n",
       "      <td>0</td>\n",
       "      <td>0</td>\n",
       "      <td>0</td>\n",
       "      <td>0</td>\n",
       "      <td>0</td>\n",
       "      <td>0</td>\n",
       "      <td>0</td>\n",
       "      <td>0</td>\n",
       "    </tr>\n",
       "    <tr>\n",
       "      <th>1058291</th>\n",
       "      <td>7775</td>\n",
       "      <td>15.27</td>\n",
       "      <td>186.08</td>\n",
       "      <td>7</td>\n",
       "      <td>50000.0</td>\n",
       "      <td>1</td>\n",
       "      <td>5.50</td>\n",
       "      <td>0</td>\n",
       "      <td>15</td>\n",
       "      <td>47.61</td>\n",
       "      <td>...</td>\n",
       "      <td>0</td>\n",
       "      <td>0</td>\n",
       "      <td>0</td>\n",
       "      <td>0</td>\n",
       "      <td>1</td>\n",
       "      <td>0</td>\n",
       "      <td>0</td>\n",
       "      <td>0</td>\n",
       "      <td>0</td>\n",
       "      <td>0</td>\n",
       "    </tr>\n",
       "    <tr>\n",
       "      <th>1059509</th>\n",
       "      <td>20000</td>\n",
       "      <td>17.27</td>\n",
       "      <td>499.96</td>\n",
       "      <td>10</td>\n",
       "      <td>80000.0</td>\n",
       "      <td>1</td>\n",
       "      <td>15.06</td>\n",
       "      <td>0</td>\n",
       "      <td>17</td>\n",
       "      <td>47.61</td>\n",
       "      <td>...</td>\n",
       "      <td>0</td>\n",
       "      <td>0</td>\n",
       "      <td>0</td>\n",
       "      <td>0</td>\n",
       "      <td>1</td>\n",
       "      <td>0</td>\n",
       "      <td>0</td>\n",
       "      <td>0</td>\n",
       "      <td>0</td>\n",
       "      <td>0</td>\n",
       "    </tr>\n",
       "    <tr>\n",
       "      <th>1061580</th>\n",
       "      <td>27575</td>\n",
       "      <td>12.69</td>\n",
       "      <td>623.05</td>\n",
       "      <td>1</td>\n",
       "      <td>91200.0</td>\n",
       "      <td>0</td>\n",
       "      <td>27.69</td>\n",
       "      <td>0</td>\n",
       "      <td>23</td>\n",
       "      <td>47.61</td>\n",
       "      <td>...</td>\n",
       "      <td>0</td>\n",
       "      <td>0</td>\n",
       "      <td>0</td>\n",
       "      <td>0</td>\n",
       "      <td>0</td>\n",
       "      <td>0</td>\n",
       "      <td>0</td>\n",
       "      <td>0</td>\n",
       "      <td>0</td>\n",
       "      <td>0</td>\n",
       "    </tr>\n",
       "    <tr>\n",
       "      <th>...</th>\n",
       "      <td>...</td>\n",
       "      <td>...</td>\n",
       "      <td>...</td>\n",
       "      <td>...</td>\n",
       "      <td>...</td>\n",
       "      <td>...</td>\n",
       "      <td>...</td>\n",
       "      <td>...</td>\n",
       "      <td>...</td>\n",
       "      <td>...</td>\n",
       "      <td>...</td>\n",
       "      <td>...</td>\n",
       "      <td>...</td>\n",
       "      <td>...</td>\n",
       "      <td>...</td>\n",
       "      <td>...</td>\n",
       "      <td>...</td>\n",
       "      <td>...</td>\n",
       "      <td>...</td>\n",
       "      <td>...</td>\n",
       "      <td>...</td>\n",
       "    </tr>\n",
       "    <tr>\n",
       "      <th>7097447</th>\n",
       "      <td>35000</td>\n",
       "      <td>25.89</td>\n",
       "      <td>1045.64</td>\n",
       "      <td>10</td>\n",
       "      <td>95000.0</td>\n",
       "      <td>1</td>\n",
       "      <td>17.08</td>\n",
       "      <td>6</td>\n",
       "      <td>23</td>\n",
       "      <td>9.00</td>\n",
       "      <td>...</td>\n",
       "      <td>0</td>\n",
       "      <td>0</td>\n",
       "      <td>0</td>\n",
       "      <td>0</td>\n",
       "      <td>0</td>\n",
       "      <td>0</td>\n",
       "      <td>0</td>\n",
       "      <td>0</td>\n",
       "      <td>0</td>\n",
       "      <td>0</td>\n",
       "    </tr>\n",
       "    <tr>\n",
       "      <th>3674855</th>\n",
       "      <td>25475</td>\n",
       "      <td>23.28</td>\n",
       "      <td>722.26</td>\n",
       "      <td>10</td>\n",
       "      <td>99877.0</td>\n",
       "      <td>1</td>\n",
       "      <td>15.54</td>\n",
       "      <td>8</td>\n",
       "      <td>17</td>\n",
       "      <td>13.00</td>\n",
       "      <td>...</td>\n",
       "      <td>0</td>\n",
       "      <td>0</td>\n",
       "      <td>0</td>\n",
       "      <td>0</td>\n",
       "      <td>0</td>\n",
       "      <td>0</td>\n",
       "      <td>0</td>\n",
       "      <td>0</td>\n",
       "      <td>0</td>\n",
       "      <td>0</td>\n",
       "    </tr>\n",
       "    <tr>\n",
       "      <th>5164959</th>\n",
       "      <td>32875</td>\n",
       "      <td>23.28</td>\n",
       "      <td>932.06</td>\n",
       "      <td>10</td>\n",
       "      <td>74000.0</td>\n",
       "      <td>1</td>\n",
       "      <td>14.43</td>\n",
       "      <td>8</td>\n",
       "      <td>19</td>\n",
       "      <td>21.00</td>\n",
       "      <td>...</td>\n",
       "      <td>0</td>\n",
       "      <td>0</td>\n",
       "      <td>0</td>\n",
       "      <td>0</td>\n",
       "      <td>0</td>\n",
       "      <td>0</td>\n",
       "      <td>0</td>\n",
       "      <td>0</td>\n",
       "      <td>0</td>\n",
       "      <td>0</td>\n",
       "    </tr>\n",
       "    <tr>\n",
       "      <th>8968302</th>\n",
       "      <td>16000</td>\n",
       "      <td>20.20</td>\n",
       "      <td>425.69</td>\n",
       "      <td>8</td>\n",
       "      <td>126000.0</td>\n",
       "      <td>1</td>\n",
       "      <td>18.97</td>\n",
       "      <td>8</td>\n",
       "      <td>18</td>\n",
       "      <td>17.00</td>\n",
       "      <td>...</td>\n",
       "      <td>0</td>\n",
       "      <td>0</td>\n",
       "      <td>0</td>\n",
       "      <td>0</td>\n",
       "      <td>0</td>\n",
       "      <td>0</td>\n",
       "      <td>1</td>\n",
       "      <td>0</td>\n",
       "      <td>0</td>\n",
       "      <td>0</td>\n",
       "    </tr>\n",
       "    <tr>\n",
       "      <th>6296667</th>\n",
       "      <td>35000</td>\n",
       "      <td>24.50</td>\n",
       "      <td>1017.07</td>\n",
       "      <td>10</td>\n",
       "      <td>150000.0</td>\n",
       "      <td>1</td>\n",
       "      <td>26.14</td>\n",
       "      <td>9</td>\n",
       "      <td>29</td>\n",
       "      <td>3.00</td>\n",
       "      <td>...</td>\n",
       "      <td>0</td>\n",
       "      <td>0</td>\n",
       "      <td>0</td>\n",
       "      <td>0</td>\n",
       "      <td>0</td>\n",
       "      <td>0</td>\n",
       "      <td>0</td>\n",
       "      <td>0</td>\n",
       "      <td>0</td>\n",
       "      <td>0</td>\n",
       "    </tr>\n",
       "  </tbody>\n",
       "</table>\n",
       "<p>2194 rows × 78 columns</p>\n",
       "</div>"
      ],
      "text/plain": [
       "         Loan_Amount  Interest_Rate  Installment  Employment_Length  \\\n",
       "Id                                                                    \n",
       "571203         18000          10.16       383.87                 10   \n",
       "784712         16500           7.90       333.78                  2   \n",
       "1058291         7775          15.27       186.08                  7   \n",
       "1059509        20000          17.27       499.96                 10   \n",
       "1061580        27575          12.69       623.05                  1   \n",
       "...              ...            ...          ...                ...   \n",
       "7097447        35000          25.89      1045.64                 10   \n",
       "3674855        25475          23.28       722.26                 10   \n",
       "5164959        32875          23.28       932.06                 10   \n",
       "8968302        16000          20.20       425.69                  8   \n",
       "6296667        35000          24.50      1017.07                 10   \n",
       "\n",
       "         Annual_Income  Loan_Status    DTI  Deliquency_in_2years  \\\n",
       "Id                                                                 \n",
       "571203         72804.0            1  16.73                     0   \n",
       "784712         42000.0            0  10.43                     0   \n",
       "1058291        50000.0            1   5.50                     0   \n",
       "1059509        80000.0            1  15.06                     0   \n",
       "1061580        91200.0            0  27.69                     0   \n",
       "...                ...          ...    ...                   ...   \n",
       "7097447        95000.0            1  17.08                     6   \n",
       "3674855        99877.0            1  15.54                     8   \n",
       "5164959        74000.0            1  14.43                     8   \n",
       "8968302       126000.0            1  18.97                     8   \n",
       "6296667       150000.0            1  26.14                     9   \n",
       "\n",
       "         Credit_Line_Year  Months_since_Last_Deliquency  ...  State_SD  \\\n",
       "Id                                                       ...             \n",
       "571203                 23                         47.61  ...         0   \n",
       "784712                 25                         47.61  ...         0   \n",
       "1058291                15                         47.61  ...         0   \n",
       "1059509                17                         47.61  ...         0   \n",
       "1061580                23                         47.61  ...         0   \n",
       "...                   ...                           ...  ...       ...   \n",
       "7097447                23                          9.00  ...         0   \n",
       "3674855                17                         13.00  ...         0   \n",
       "5164959                19                         21.00  ...         0   \n",
       "8968302                18                         17.00  ...         0   \n",
       "6296667                29                          3.00  ...         0   \n",
       "\n",
       "         State_TN  State_TX  State_UT  State_VA  State_VT  State_WA  State_WI  \\\n",
       "Id                                                                              \n",
       "571203          0         0         0         0         0         0         0   \n",
       "784712          0         0         0         0         0         0         0   \n",
       "1058291         0         0         0         1         0         0         0   \n",
       "1059509         0         0         0         1         0         0         0   \n",
       "1061580         0         0         0         0         0         0         0   \n",
       "...           ...       ...       ...       ...       ...       ...       ...   \n",
       "7097447         0         0         0         0         0         0         0   \n",
       "3674855         0         0         0         0         0         0         0   \n",
       "5164959         0         0         0         0         0         0         0   \n",
       "8968302         0         0         0         0         0         1         0   \n",
       "6296667         0         0         0         0         0         0         0   \n",
       "\n",
       "         State_WV  State_WY  \n",
       "Id                           \n",
       "571203          0         0  \n",
       "784712          0         0  \n",
       "1058291         0         0  \n",
       "1059509         0         0  \n",
       "1061580         0         0  \n",
       "...           ...       ...  \n",
       "7097447         0         0  \n",
       "3674855         0         0  \n",
       "5164959         0         0  \n",
       "8968302         0         0  \n",
       "6296667         0         0  \n",
       "\n",
       "[2194 rows x 78 columns]"
      ]
     },
     "execution_count": 33,
     "metadata": {},
     "output_type": "execute_result"
    }
   ],
   "source": [
    "data"
   ]
  },
  {
   "cell_type": "code",
   "execution_count": 34,
   "metadata": {
    "ExecuteTime": {
     "end_time": "2021-02-17T07:30:00.253948Z",
     "start_time": "2021-02-17T07:30:00.197802Z"
    }
   },
   "outputs": [],
   "source": [
    "splitter=StratifiedShuffleSplit(test_size=0.5,random_state=42)\n",
    "for train_index,test_index in splitter.split(data,data['Loan_Status']):\n",
    "    train_set=data.iloc[train_index,:]\n",
    "    test_set=data.iloc[test_index,:]"
   ]
  },
  {
   "cell_type": "code",
   "execution_count": 35,
   "metadata": {
    "ExecuteTime": {
     "end_time": "2021-02-17T07:30:01.526952Z",
     "start_time": "2021-02-17T07:30:01.517645Z"
    }
   },
   "outputs": [],
   "source": [
    "X_train=train_set.drop('Loan_Status',axis=1)\n",
    "y_train=train_set['Loan_Status']"
   ]
  },
  {
   "cell_type": "code",
   "execution_count": 36,
   "metadata": {
    "ExecuteTime": {
     "end_time": "2021-02-17T07:30:02.829298Z",
     "start_time": "2021-02-17T07:30:02.823297Z"
    }
   },
   "outputs": [],
   "source": [
    "from sklearn.model_selection import GridSearchCV"
   ]
  },
  {
   "cell_type": "code",
   "execution_count": 37,
   "metadata": {
    "ExecuteTime": {
     "end_time": "2021-02-17T07:30:04.778373Z",
     "start_time": "2021-02-17T07:30:04.773372Z"
    }
   },
   "outputs": [],
   "source": [
    "logit=LogisticRegression(random_state=42)"
   ]
  },
  {
   "cell_type": "code",
   "execution_count": 38,
   "metadata": {
    "ExecuteTime": {
     "end_time": "2021-02-17T07:30:11.485479Z",
     "start_time": "2021-02-17T07:30:11.477584Z"
    }
   },
   "outputs": [],
   "source": [
    "param_grid_logit={'C':[10**i for i in [-5,-4,-3,-2,-1,0,1,2,3,4,5]],\n",
    "           'solver':['newton-cg','lbfgs','liblinear','sag','saga']}"
   ]
  },
  {
   "cell_type": "code",
   "execution_count": 39,
   "metadata": {
    "ExecuteTime": {
     "end_time": "2021-02-17T07:30:12.475535Z",
     "start_time": "2021-02-17T07:30:12.469642Z"
    }
   },
   "outputs": [],
   "source": [
    "grid_search_logit=GridSearchCV(estimator=logit,param_grid=param_grid_logit,scoring='roc_auc',n_jobs=-1,cv=3,return_train_score=True)"
   ]
  },
  {
   "cell_type": "code",
   "execution_count": 40,
   "metadata": {
    "ExecuteTime": {
     "end_time": "2021-02-17T07:30:22.421084Z",
     "start_time": "2021-02-17T07:30:13.343432Z"
    }
   },
   "outputs": [
    {
     "data": {
      "text/plain": [
       "GridSearchCV(cv=3, estimator=LogisticRegression(random_state=42), n_jobs=-1,\n",
       "             param_grid={'C': [1e-05, 0.0001, 0.001, 0.01, 0.1, 1, 10, 100,\n",
       "                               1000, 10000, 100000],\n",
       "                         'solver': ['newton-cg', 'lbfgs', 'liblinear', 'sag',\n",
       "                                    'saga']},\n",
       "             return_train_score=True, scoring='roc_auc')"
      ]
     },
     "execution_count": 40,
     "metadata": {},
     "output_type": "execute_result"
    }
   ],
   "source": [
    "grid_search_logit.fit(X_train,y_train)"
   ]
  },
  {
   "cell_type": "code",
   "execution_count": 41,
   "metadata": {
    "ExecuteTime": {
     "end_time": "2021-02-17T07:30:50.326749Z",
     "start_time": "2021-02-17T07:30:50.319428Z"
    }
   },
   "outputs": [
    {
     "data": {
      "text/plain": [
       "{'C': 10, 'solver': 'liblinear'}"
      ]
     },
     "execution_count": 41,
     "metadata": {},
     "output_type": "execute_result"
    }
   ],
   "source": [
    "grid_search_logit.best_params_"
   ]
  },
  {
   "cell_type": "code",
   "execution_count": 42,
   "metadata": {
    "ExecuteTime": {
     "end_time": "2021-02-17T07:31:04.835566Z",
     "start_time": "2021-02-17T07:31:04.830692Z"
    }
   },
   "outputs": [],
   "source": [
    "logit=LogisticRegression(C=10,solver='liblinear',random_state=42)"
   ]
  },
  {
   "cell_type": "code",
   "execution_count": 43,
   "metadata": {
    "ExecuteTime": {
     "end_time": "2021-02-17T07:31:05.996627Z",
     "start_time": "2021-02-17T07:31:05.959424Z"
    }
   },
   "outputs": [
    {
     "data": {
      "text/plain": [
       "LogisticRegression(C=10, random_state=42, solver='liblinear')"
      ]
     },
     "execution_count": 43,
     "metadata": {},
     "output_type": "execute_result"
    }
   ],
   "source": [
    "logit.fit(X_train,y_train)"
   ]
  },
  {
   "cell_type": "code",
   "execution_count": 44,
   "metadata": {
    "ExecuteTime": {
     "end_time": "2021-02-17T07:31:11.310588Z",
     "start_time": "2021-02-17T07:31:09.910730Z"
    }
   },
   "outputs": [
    {
     "data": {
      "image/png": "[encoded data removed]",
      "text/plain": [
       "<Figure size 576x396 with 1 Axes>"
      ]
     },
     "metadata": {},
     "output_type": "display_data"
    },
    {
     "data": {
      "text/plain": [
       "<matplotlib.axes._subplots.AxesSubplot at 0x1bf395b1dc8>"
      ]
     },
     "execution_count": 44,
     "metadata": {},
     "output_type": "execute_result"
    }
   ],
   "source": [
    "from yellowbrick.classifier import ConfusionMatrix\n",
    "cm = ConfusionMatrix(logit, classes=[0,1])\n",
    "cm.score(X_train, y_train)\n",
    "cm.show()"
   ]
  },
  {
   "cell_type": "code",
   "execution_count": 45,
   "metadata": {
    "ExecuteTime": {
     "end_time": "2021-02-17T07:31:19.198321Z",
     "start_time": "2021-02-17T07:31:19.190178Z"
    }
   },
   "outputs": [],
   "source": [
    "X_test=test_set.drop('Loan_Status',axis=1)\n",
    "y_test=test_set['Loan_Status']"
   ]
  },
  {
   "cell_type": "code",
   "execution_count": 46,
   "metadata": {
    "ExecuteTime": {
     "end_time": "2021-02-17T07:31:20.681769Z",
     "start_time": "2021-02-17T07:31:20.414892Z"
    }
   },
   "outputs": [
    {
     "data": {
      "image/png": "[encoded data removed]",
      "text/plain": [
       "<Figure size 576x396 with 1 Axes>"
      ]
     },
     "metadata": {},
     "output_type": "display_data"
    },
    {
     "data": {
      "text/plain": [
       "<matplotlib.axes._subplots.AxesSubplot at 0x1bf39e5a688>"
      ]
     },
     "execution_count": 46,
     "metadata": {},
     "output_type": "execute_result"
    }
   ],
   "source": [
    "cm = ConfusionMatrix(logit, classes=[0,1])\n",
    "cm.score(X_test, y_test)\n",
    "cm.show()"
   ]
  },
  {
   "cell_type": "code",
   "execution_count": 47,
   "metadata": {
    "ExecuteTime": {
     "end_time": "2021-02-17T07:31:53.291697Z",
     "start_time": "2021-02-17T07:31:52.856790Z"
    }
   },
   "outputs": [
    {
     "data": {
      "image/png": "[encoded data removed]",
      "text/plain": [
       "<Figure size 576x396 with 2 Axes>"
      ]
     },
     "metadata": {},
     "output_type": "display_data"
    },
    {
     "data": {
      "text/plain": [
       "<matplotlib.axes._subplots.AxesSubplot at 0x1bf39eb3388>"
      ]
     },
     "execution_count": 47,
     "metadata": {},
     "output_type": "execute_result"
    }
   ],
   "source": [
    "from yellowbrick.classifier import ClassificationReport\n",
    "classes = [\"Bad\", \"Good\"]\n",
    "visualizer = ClassificationReport(logit, classes=classes, support=True)\n",
    "visualizer.score(X_train, y_train)\n",
    "visualizer.show()"
   ]
  },
  {
   "cell_type": "code",
   "execution_count": 48,
   "metadata": {
    "ExecuteTime": {
     "end_time": "2021-02-17T07:31:57.021477Z",
     "start_time": "2021-02-17T07:31:56.575803Z"
    }
   },
   "outputs": [
    {
     "data": {
      "image/png": "[encoded data removed]",
      "text/plain": [
       "<Figure size 576x396 with 2 Axes>"
      ]
     },
     "metadata": {},
     "output_type": "display_data"
    },
    {
     "data": {
      "text/plain": [
       "<matplotlib.axes._subplots.AxesSubplot at 0x1bf39f6d9c8>"
      ]
     },
     "execution_count": 48,
     "metadata": {},
     "output_type": "execute_result"
    }
   ],
   "source": [
    "from yellowbrick.classifier import ClassificationReport\n",
    "classes = [\"Bad\", \"Good\"]\n",
    "visualizer = ClassificationReport(logit, classes=classes, support=True)\n",
    "visualizer.score(X_test, y_test)\n",
    "visualizer.show()"
   ]
  },
  {
   "cell_type": "code",
   "execution_count": 50,
   "metadata": {
    "ExecuteTime": {
     "end_time": "2021-02-17T07:32:26.697371Z",
     "start_time": "2021-02-17T07:32:26.207162Z"
    }
   },
   "outputs": [
    {
     "data": {
      "image/png": "[encoded data removed]",
      "text/plain": [
       "<Figure size 576x396 with 1 Axes>"
      ]
     },
     "metadata": {},
     "output_type": "display_data"
    },
    {
     "data": {
      "text/plain": [
       "<matplotlib.axes._subplots.AxesSubplot at 0x1bf3a09bac8>"
      ]
     },
     "execution_count": 50,
     "metadata": {},
     "output_type": "execute_result"
    }
   ],
   "source": [
    "from yellowbrick.classifier import ROCAUC\n",
    "logit=LogisticRegression(C=10.0,solver='liblinear',random_state=42,multi_class='auto')\n",
    "visualizer = ROCAUC(logit,classes=['Bad','Good'])\n",
    "visualizer.fit(X_train, y_train)\n",
    "visualizer.score(X_test,y_test)\n",
    "visualizer.show()"
   ]
  },
  {
   "cell_type": "code",
   "execution_count": 51,
   "metadata": {
    "ExecuteTime": {
     "end_time": "2021-02-17T07:32:32.014816Z",
     "start_time": "2021-02-17T07:32:31.950702Z"
    }
   },
   "outputs": [],
   "source": [
    "from sklearn.ensemble import RandomForestClassifier"
   ]
  },
  {
   "cell_type": "code",
   "execution_count": 52,
   "metadata": {
    "ExecuteTime": {
     "end_time": "2021-02-17T07:32:32.755869Z",
     "start_time": "2021-02-17T07:32:32.749920Z"
    }
   },
   "outputs": [],
   "source": [
    "forest=RandomForestClassifier(random_state=42)"
   ]
  },
  {
   "cell_type": "code",
   "execution_count": 53,
   "metadata": {
    "ExecuteTime": {
     "end_time": "2021-02-17T07:32:34.269701Z",
     "start_time": "2021-02-17T07:32:34.262203Z"
    }
   },
   "outputs": [],
   "source": [
    "param_grid_forest={'criterion':['gini','entropy'],\n",
    "           'max_depth':[i for i in range(1,21)]}"
   ]
  },
  {
   "cell_type": "code",
   "execution_count": 54,
   "metadata": {
    "ExecuteTime": {
     "end_time": "2021-02-17T07:32:37.990026Z",
     "start_time": "2021-02-17T07:32:37.983021Z"
    }
   },
   "outputs": [],
   "source": [
    "grid_search_forest=GridSearchCV(estimator=forest,param_grid=param_grid_forest,scoring='roc_auc',n_jobs=-1,cv=5,return_train_score=True)"
   ]
  },
  {
   "cell_type": "code",
   "execution_count": 55,
   "metadata": {
    "ExecuteTime": {
     "end_time": "2021-02-17T07:33:00.568329Z",
     "start_time": "2021-02-17T07:32:40.965929Z"
    }
   },
   "outputs": [
    {
     "data": {
      "text/plain": [
       "GridSearchCV(cv=5, estimator=RandomForestClassifier(random_state=42), n_jobs=-1,\n",
       "             param_grid={'criterion': ['gini', 'entropy'],\n",
       "                         'max_depth': [1, 2, 3, 4, 5, 6, 7, 8, 9, 10, 11, 12,\n",
       "                                       13, 14, 15, 16, 17, 18, 19, 20]},\n",
       "             return_train_score=True, scoring='roc_auc')"
      ]
     },
     "execution_count": 55,
     "metadata": {},
     "output_type": "execute_result"
    }
   ],
   "source": [
    "grid_search_forest.fit(X_train,y_train)"
   ]
  },
  {
   "cell_type": "code",
   "execution_count": 56,
   "metadata": {
    "ExecuteTime": {
     "end_time": "2021-02-17T07:33:03.293909Z",
     "start_time": "2021-02-17T07:33:03.287341Z"
    }
   },
   "outputs": [
    {
     "data": {
      "text/plain": [
       "{'criterion': 'gini', 'max_depth': 16}"
      ]
     },
     "execution_count": 56,
     "metadata": {},
     "output_type": "execute_result"
    }
   ],
   "source": [
    "grid_search_forest.best_params_"
   ]
  },
  {
   "cell_type": "code",
   "execution_count": 57,
   "metadata": {
    "ExecuteTime": {
     "end_time": "2021-02-17T07:33:16.978658Z",
     "start_time": "2021-02-17T07:33:16.973654Z"
    }
   },
   "outputs": [],
   "source": [
    "forest=RandomForestClassifier(max_depth=16,random_state=42,criterion='gini')"
   ]
  },
  {
   "cell_type": "code",
   "execution_count": 58,
   "metadata": {
    "ExecuteTime": {
     "end_time": "2021-02-17T07:33:18.684183Z",
     "start_time": "2021-02-17T07:33:17.950878Z"
    }
   },
   "outputs": [
    {
     "data": {
      "text/plain": [
       "RandomForestClassifier(max_depth=16, random_state=42)"
      ]
     },
     "execution_count": 58,
     "metadata": {},
     "output_type": "execute_result"
    }
   ],
   "source": [
    "forest.fit(X_train,y_train)"
   ]
  },
  {
   "cell_type": "code",
   "execution_count": 59,
   "metadata": {
    "ExecuteTime": {
     "end_time": "2021-02-17T07:33:22.258707Z",
     "start_time": "2021-02-17T07:33:21.951008Z"
    }
   },
   "outputs": [
    {
     "data": {
      "image/png": "[encoded data removed]",
      "text/plain": [
       "<Figure size 576x396 with 1 Axes>"
      ]
     },
     "metadata": {},
     "output_type": "display_data"
    },
    {
     "data": {
      "text/plain": [
       "<matplotlib.axes._subplots.AxesSubplot at 0x1bf3a2a3d08>"
      ]
     },
     "execution_count": 59,
     "metadata": {},
     "output_type": "execute_result"
    }
   ],
   "source": [
    "cm = ConfusionMatrix(forest, classes=[0,1])\n",
    "cm.score(X_train, y_train)\n",
    "cm.show()"
   ]
  },
  {
   "cell_type": "code",
   "execution_count": 60,
   "metadata": {
    "ExecuteTime": {
     "end_time": "2021-02-17T07:33:25.585535Z",
     "start_time": "2021-02-17T07:33:25.310772Z"
    }
   },
   "outputs": [
    {
     "data": {
      "image/png": "[encoded data removed]",
      "text/plain": [
       "<Figure size 576x396 with 1 Axes>"
      ]
     },
     "metadata": {},
     "output_type": "display_data"
    },
    {
     "data": {
      "text/plain": [
       "<matplotlib.axes._subplots.AxesSubplot at 0x1bf3a0f3608>"
      ]
     },
     "execution_count": 60,
     "metadata": {},
     "output_type": "execute_result"
    }
   ],
   "source": [
    "cm = ConfusionMatrix(forest, classes=[0,1])\n",
    "cm.score(X_test, y_test)\n",
    "cm.show()"
   ]
  },
  {
   "cell_type": "code",
   "execution_count": 61,
   "metadata": {
    "ExecuteTime": {
     "end_time": "2021-02-17T07:33:30.868032Z",
     "start_time": "2021-02-17T07:33:30.406606Z"
    }
   },
   "outputs": [
    {
     "data": {
      "image/png": "[encoded data removed]",
      "text/plain": [
       "<Figure size 576x396 with 2 Axes>"
      ]
     },
     "metadata": {},
     "output_type": "display_data"
    },
    {
     "data": {
      "text/plain": [
       "<matplotlib.axes._subplots.AxesSubplot at 0x1bf3a31d088>"
      ]
     },
     "execution_count": 61,
     "metadata": {},
     "output_type": "execute_result"
    }
   ],
   "source": [
    "classes = [\"Bad\", \"Good\"]\n",
    "visualizer = ClassificationReport(forest, classes=classes, support=True)\n",
    "visualizer.score(X_train, y_train)\n",
    "visualizer.show()"
   ]
  },
  {
   "cell_type": "code",
   "execution_count": 62,
   "metadata": {
    "ExecuteTime": {
     "end_time": "2021-02-17T07:33:34.225643Z",
     "start_time": "2021-02-17T07:33:33.598411Z"
    }
   },
   "outputs": [
    {
     "data": {
      "image/png": "[encoded data removed]",
      "text/plain": [
       "<Figure size 576x396 with 2 Axes>"
      ]
     },
     "metadata": {},
     "output_type": "display_data"
    },
    {
     "data": {
      "text/plain": [
       "<matplotlib.axes._subplots.AxesSubplot at 0x1bf3c390c48>"
      ]
     },
     "execution_count": 62,
     "metadata": {},
     "output_type": "execute_result"
    }
   ],
   "source": [
    "visualizer = ClassificationReport(forest, classes=classes, support=True)\n",
    "visualizer.score(X_test, y_test)\n",
    "visualizer.show()"
   ]
  },
  {
   "cell_type": "code",
   "execution_count": 63,
   "metadata": {
    "ExecuteTime": {
     "end_time": "2021-02-17T07:33:37.829584Z",
     "start_time": "2021-02-17T07:33:36.799409Z"
    }
   },
   "outputs": [
    {
     "data": {
      "image/png": "[encoded data removed]",
      "text/plain": [
       "<Figure size 576x396 with 1 Axes>"
      ]
     },
     "metadata": {},
     "output_type": "display_data"
    },
    {
     "data": {
      "text/plain": [
       "<matplotlib.axes._subplots.AxesSubplot at 0x1bf3c432108>"
      ]
     },
     "execution_count": 63,
     "metadata": {},
     "output_type": "execute_result"
    }
   ],
   "source": [
    "forest=RandomForestClassifier(max_depth=17,random_state=42)\n",
    "visualizer = ROCAUC(forest,classes=['Bad','Good'])\n",
    "visualizer.fit(X_train, y_train)\n",
    "visualizer.score(X_test,y_test)\n",
    "visualizer.show()"
   ]
  },
  {
   "cell_type": "code",
   "execution_count": null,
   "metadata": {},
   "outputs": [],
   "source": []
  }
 ],
 "metadata": {
  "kernelspec": {
   "display_name": "Python 3",
   "language": "python",
   "name": "python3"
  },
  "language_info": {
   "codemirror_mode": {
    "name": "ipython",
    "version": 3
   },
   "file_extension": ".py",
   "mimetype": "text/x-python",
   "name": "python",
   "nbconvert_exporter": "python",
   "pygments_lexer": "ipython3",
   "version": "3.7.6"
  },
  "toc": {
   "base_numbering": 1,
   "nav_menu": {},
   "number_sections": true,
   "sideBar": true,
   "skip_h1_title": false,
   "title_cell": "Table of Contents",
   "title_sidebar": "Contents",
   "toc_cell": false,
   "toc_position": {},
   "toc_section_display": true,
   "toc_window_display": false
  },
  "varInspector": {
   "cols": {
    "lenName": 16,
    "lenType": 16,
    "lenVar": 40
   },
   "kernels_config": {
    "python": {
     "delete_cmd_postfix": "",
     "delete_cmd_prefix": "del ",
     "library": "var_list.py",
     "varRefreshCmd": "print(var_dic_list())"
    },
    "r": {
     "delete_cmd_postfix": ") ",
     "delete_cmd_prefix": "rm(",
     "library": "var_list.r",
     "varRefreshCmd": "cat(var_dic_list()) "
    }
   },
   "types_to_exclude": [
    "module",
    "function",
    "builtin_function_or_method",
    "instance",
    "_Feature"
   ],
   "window_display": false
  }
 },
 "nbformat": 4,
 "nbformat_minor": 4
}
